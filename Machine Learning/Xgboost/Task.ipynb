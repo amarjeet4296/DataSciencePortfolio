{
  "nbformat": 4,
  "nbformat_minor": 0,
  "metadata": {
    "colab": {
      "provenance": []
    },
    "kernelspec": {
      "name": "python3",
      "display_name": "Python 3"
    },
    "language_info": {
      "name": "python"
    }
  },
  "cells": [
    {
      "cell_type": "code",
      "execution_count": 67,
      "metadata": {
        "colab": {
          "base_uri": "https://localhost:8080/"
        },
        "id": "P4Cbs559oq8X",
        "outputId": "c972dee1-48c5-4b25-b542-532520579f0b"
      },
      "outputs": [
        {
          "output_type": "stream",
          "name": "stdout",
          "text": [
            "Looking in indexes: https://pypi.org/simple, https://us-python.pkg.dev/colab-wheels/public/simple/\n",
            "Requirement already satisfied: xgboost in /usr/local/lib/python3.8/dist-packages (1.7.3)\n",
            "Requirement already satisfied: numpy in /usr/local/lib/python3.8/dist-packages (from xgboost) (1.21.6)\n",
            "Requirement already satisfied: scipy in /usr/local/lib/python3.8/dist-packages (from xgboost) (1.7.3)\n"
          ]
        }
      ],
      "source": [
        "import numpy as np\n",
        "import pandas as pd\n",
        "from pandas import DataFrame\n",
        "import matplotlib.pyplot as plt\n",
        "import seaborn as sns\n",
        "from mlxtend.feature_selection import SequentialFeatureSelector as SFS\n",
        "!pip install --upgrade xgboost\n"
      ]
    },
    {
      "cell_type": "code",
      "source": [
        "df = pd.read_csv(\"/content/Test_Data.csv\")"
      ],
      "metadata": {
        "id": "fEcs7a8Zo20z"
      },
      "execution_count": 68,
      "outputs": []
    },
    {
      "cell_type": "code",
      "source": [
        "df.head()"
      ],
      "metadata": {
        "colab": {
          "base_uri": "https://localhost:8080/",
          "height": 299
        },
        "id": "HbMFM2DupBP5",
        "outputId": "5165143d-d0e1-40fc-99f2-8d0c6c575c07"
      },
      "execution_count": 69,
      "outputs": [
        {
          "output_type": "execute_result",
          "data": {
            "text/plain": [
              "   Activity  Country          X1          X2           X3           X4  \\\n",
              "0         1      Tau  514.112825  280.127163  2043.219975   983.894190   \n",
              "1         1      Ofu  502.011480  367.139952  1578.241845   952.498432   \n",
              "2         1      Tau  553.445613  246.669667  1527.881591  1039.902223   \n",
              "3         1  Olosega  493.511261  304.343252  1671.436908   836.613718   \n",
              "4         0    Aunuu  482.213205  428.869497  1538.468529   943.415119   \n",
              "\n",
              "           X5          X6          X7          X8  ...        X21         X22  \\\n",
              "0   62.264430  407.920959  873.090147  341.502421  ...  51.039549   90.502279   \n",
              "1  153.040439  387.172971  868.124526  361.961562  ...   0.000000    0.000000   \n",
              "2   32.232777  402.542573  801.059405  345.487249  ...   0.000000    0.000000   \n",
              "3  132.190120  368.481594  861.582675  343.469353  ...   0.000000    0.000000   \n",
              "4  160.019777  369.085979  849.722321  343.343067  ...  50.119562  133.679537   \n",
              "\n",
              "          X23         X24         X25         X26         X27          X28  \\\n",
              "0  794.425537  135.632398  605.175961  399.664283  309.623417  1438.193673   \n",
              "1    0.000000    0.000000    0.000000    0.000000    0.000000     0.000000   \n",
              "2    0.000000    0.000000    0.000000    0.000000    0.000000     0.000000   \n",
              "3    0.000000    0.000000    0.000000    0.000000    0.000000     0.000000   \n",
              "4  813.712626   88.676850  395.318535  333.471865  395.757204  1421.798388   \n",
              "\n",
              "          X29          X30  \n",
              "0  448.423683  1146.551728  \n",
              "1    0.000000     0.000000  \n",
              "2    0.000000     0.000000  \n",
              "3    0.000000     0.000000  \n",
              "4  440.439527  1344.631717  \n",
              "\n",
              "[5 rows x 32 columns]"
            ],
            "text/html": [
              "\n",
              "  <div id=\"df-34e8fe44-d78d-4af6-9aae-9ebc27f97917\">\n",
              "    <div class=\"colab-df-container\">\n",
              "      <div>\n",
              "<style scoped>\n",
              "    .dataframe tbody tr th:only-of-type {\n",
              "        vertical-align: middle;\n",
              "    }\n",
              "\n",
              "    .dataframe tbody tr th {\n",
              "        vertical-align: top;\n",
              "    }\n",
              "\n",
              "    .dataframe thead th {\n",
              "        text-align: right;\n",
              "    }\n",
              "</style>\n",
              "<table border=\"1\" class=\"dataframe\">\n",
              "  <thead>\n",
              "    <tr style=\"text-align: right;\">\n",
              "      <th></th>\n",
              "      <th>Activity</th>\n",
              "      <th>Country</th>\n",
              "      <th>X1</th>\n",
              "      <th>X2</th>\n",
              "      <th>X3</th>\n",
              "      <th>X4</th>\n",
              "      <th>X5</th>\n",
              "      <th>X6</th>\n",
              "      <th>X7</th>\n",
              "      <th>X8</th>\n",
              "      <th>...</th>\n",
              "      <th>X21</th>\n",
              "      <th>X22</th>\n",
              "      <th>X23</th>\n",
              "      <th>X24</th>\n",
              "      <th>X25</th>\n",
              "      <th>X26</th>\n",
              "      <th>X27</th>\n",
              "      <th>X28</th>\n",
              "      <th>X29</th>\n",
              "      <th>X30</th>\n",
              "    </tr>\n",
              "  </thead>\n",
              "  <tbody>\n",
              "    <tr>\n",
              "      <th>0</th>\n",
              "      <td>1</td>\n",
              "      <td>Tau</td>\n",
              "      <td>514.112825</td>\n",
              "      <td>280.127163</td>\n",
              "      <td>2043.219975</td>\n",
              "      <td>983.894190</td>\n",
              "      <td>62.264430</td>\n",
              "      <td>407.920959</td>\n",
              "      <td>873.090147</td>\n",
              "      <td>341.502421</td>\n",
              "      <td>...</td>\n",
              "      <td>51.039549</td>\n",
              "      <td>90.502279</td>\n",
              "      <td>794.425537</td>\n",
              "      <td>135.632398</td>\n",
              "      <td>605.175961</td>\n",
              "      <td>399.664283</td>\n",
              "      <td>309.623417</td>\n",
              "      <td>1438.193673</td>\n",
              "      <td>448.423683</td>\n",
              "      <td>1146.551728</td>\n",
              "    </tr>\n",
              "    <tr>\n",
              "      <th>1</th>\n",
              "      <td>1</td>\n",
              "      <td>Ofu</td>\n",
              "      <td>502.011480</td>\n",
              "      <td>367.139952</td>\n",
              "      <td>1578.241845</td>\n",
              "      <td>952.498432</td>\n",
              "      <td>153.040439</td>\n",
              "      <td>387.172971</td>\n",
              "      <td>868.124526</td>\n",
              "      <td>361.961562</td>\n",
              "      <td>...</td>\n",
              "      <td>0.000000</td>\n",
              "      <td>0.000000</td>\n",
              "      <td>0.000000</td>\n",
              "      <td>0.000000</td>\n",
              "      <td>0.000000</td>\n",
              "      <td>0.000000</td>\n",
              "      <td>0.000000</td>\n",
              "      <td>0.000000</td>\n",
              "      <td>0.000000</td>\n",
              "      <td>0.000000</td>\n",
              "    </tr>\n",
              "    <tr>\n",
              "      <th>2</th>\n",
              "      <td>1</td>\n",
              "      <td>Tau</td>\n",
              "      <td>553.445613</td>\n",
              "      <td>246.669667</td>\n",
              "      <td>1527.881591</td>\n",
              "      <td>1039.902223</td>\n",
              "      <td>32.232777</td>\n",
              "      <td>402.542573</td>\n",
              "      <td>801.059405</td>\n",
              "      <td>345.487249</td>\n",
              "      <td>...</td>\n",
              "      <td>0.000000</td>\n",
              "      <td>0.000000</td>\n",
              "      <td>0.000000</td>\n",
              "      <td>0.000000</td>\n",
              "      <td>0.000000</td>\n",
              "      <td>0.000000</td>\n",
              "      <td>0.000000</td>\n",
              "      <td>0.000000</td>\n",
              "      <td>0.000000</td>\n",
              "      <td>0.000000</td>\n",
              "    </tr>\n",
              "    <tr>\n",
              "      <th>3</th>\n",
              "      <td>1</td>\n",
              "      <td>Olosega</td>\n",
              "      <td>493.511261</td>\n",
              "      <td>304.343252</td>\n",
              "      <td>1671.436908</td>\n",
              "      <td>836.613718</td>\n",
              "      <td>132.190120</td>\n",
              "      <td>368.481594</td>\n",
              "      <td>861.582675</td>\n",
              "      <td>343.469353</td>\n",
              "      <td>...</td>\n",
              "      <td>0.000000</td>\n",
              "      <td>0.000000</td>\n",
              "      <td>0.000000</td>\n",
              "      <td>0.000000</td>\n",
              "      <td>0.000000</td>\n",
              "      <td>0.000000</td>\n",
              "      <td>0.000000</td>\n",
              "      <td>0.000000</td>\n",
              "      <td>0.000000</td>\n",
              "      <td>0.000000</td>\n",
              "    </tr>\n",
              "    <tr>\n",
              "      <th>4</th>\n",
              "      <td>0</td>\n",
              "      <td>Aunuu</td>\n",
              "      <td>482.213205</td>\n",
              "      <td>428.869497</td>\n",
              "      <td>1538.468529</td>\n",
              "      <td>943.415119</td>\n",
              "      <td>160.019777</td>\n",
              "      <td>369.085979</td>\n",
              "      <td>849.722321</td>\n",
              "      <td>343.343067</td>\n",
              "      <td>...</td>\n",
              "      <td>50.119562</td>\n",
              "      <td>133.679537</td>\n",
              "      <td>813.712626</td>\n",
              "      <td>88.676850</td>\n",
              "      <td>395.318535</td>\n",
              "      <td>333.471865</td>\n",
              "      <td>395.757204</td>\n",
              "      <td>1421.798388</td>\n",
              "      <td>440.439527</td>\n",
              "      <td>1344.631717</td>\n",
              "    </tr>\n",
              "  </tbody>\n",
              "</table>\n",
              "<p>5 rows × 32 columns</p>\n",
              "</div>\n",
              "      <button class=\"colab-df-convert\" onclick=\"convertToInteractive('df-34e8fe44-d78d-4af6-9aae-9ebc27f97917')\"\n",
              "              title=\"Convert this dataframe to an interactive table.\"\n",
              "              style=\"display:none;\">\n",
              "        \n",
              "  <svg xmlns=\"http://www.w3.org/2000/svg\" height=\"24px\"viewBox=\"0 0 24 24\"\n",
              "       width=\"24px\">\n",
              "    <path d=\"M0 0h24v24H0V0z\" fill=\"none\"/>\n",
              "    <path d=\"M18.56 5.44l.94 2.06.94-2.06 2.06-.94-2.06-.94-.94-2.06-.94 2.06-2.06.94zm-11 1L8.5 8.5l.94-2.06 2.06-.94-2.06-.94L8.5 2.5l-.94 2.06-2.06.94zm10 10l.94 2.06.94-2.06 2.06-.94-2.06-.94-.94-2.06-.94 2.06-2.06.94z\"/><path d=\"M17.41 7.96l-1.37-1.37c-.4-.4-.92-.59-1.43-.59-.52 0-1.04.2-1.43.59L10.3 9.45l-7.72 7.72c-.78.78-.78 2.05 0 2.83L4 21.41c.39.39.9.59 1.41.59.51 0 1.02-.2 1.41-.59l7.78-7.78 2.81-2.81c.8-.78.8-2.07 0-2.86zM5.41 20L4 18.59l7.72-7.72 1.47 1.35L5.41 20z\"/>\n",
              "  </svg>\n",
              "      </button>\n",
              "      \n",
              "  <style>\n",
              "    .colab-df-container {\n",
              "      display:flex;\n",
              "      flex-wrap:wrap;\n",
              "      gap: 12px;\n",
              "    }\n",
              "\n",
              "    .colab-df-convert {\n",
              "      background-color: #E8F0FE;\n",
              "      border: none;\n",
              "      border-radius: 50%;\n",
              "      cursor: pointer;\n",
              "      display: none;\n",
              "      fill: #1967D2;\n",
              "      height: 32px;\n",
              "      padding: 0 0 0 0;\n",
              "      width: 32px;\n",
              "    }\n",
              "\n",
              "    .colab-df-convert:hover {\n",
              "      background-color: #E2EBFA;\n",
              "      box-shadow: 0px 1px 2px rgba(60, 64, 67, 0.3), 0px 1px 3px 1px rgba(60, 64, 67, 0.15);\n",
              "      fill: #174EA6;\n",
              "    }\n",
              "\n",
              "    [theme=dark] .colab-df-convert {\n",
              "      background-color: #3B4455;\n",
              "      fill: #D2E3FC;\n",
              "    }\n",
              "\n",
              "    [theme=dark] .colab-df-convert:hover {\n",
              "      background-color: #434B5C;\n",
              "      box-shadow: 0px 1px 3px 1px rgba(0, 0, 0, 0.15);\n",
              "      filter: drop-shadow(0px 1px 2px rgba(0, 0, 0, 0.3));\n",
              "      fill: #FFFFFF;\n",
              "    }\n",
              "  </style>\n",
              "\n",
              "      <script>\n",
              "        const buttonEl =\n",
              "          document.querySelector('#df-34e8fe44-d78d-4af6-9aae-9ebc27f97917 button.colab-df-convert');\n",
              "        buttonEl.style.display =\n",
              "          google.colab.kernel.accessAllowed ? 'block' : 'none';\n",
              "\n",
              "        async function convertToInteractive(key) {\n",
              "          const element = document.querySelector('#df-34e8fe44-d78d-4af6-9aae-9ebc27f97917');\n",
              "          const dataTable =\n",
              "            await google.colab.kernel.invokeFunction('convertToInteractive',\n",
              "                                                     [key], {});\n",
              "          if (!dataTable) return;\n",
              "\n",
              "          const docLinkHtml = 'Like what you see? Visit the ' +\n",
              "            '<a target=\"_blank\" href=https://colab.research.google.com/notebooks/data_table.ipynb>data table notebook</a>'\n",
              "            + ' to learn more about interactive tables.';\n",
              "          element.innerHTML = '';\n",
              "          dataTable['output_type'] = 'display_data';\n",
              "          await google.colab.output.renderOutput(dataTable, element);\n",
              "          const docLink = document.createElement('div');\n",
              "          docLink.innerHTML = docLinkHtml;\n",
              "          element.appendChild(docLink);\n",
              "        }\n",
              "      </script>\n",
              "    </div>\n",
              "  </div>\n",
              "  "
            ]
          },
          "metadata": {},
          "execution_count": 69
        }
      ]
    },
    {
      "cell_type": "code",
      "source": [
        "df.duplicated().sum()"
      ],
      "metadata": {
        "colab": {
          "base_uri": "https://localhost:8080/"
        },
        "id": "cSh2JQCmpDA8",
        "outputId": "0e864fca-c550-4d18-fc0f-20216394738e"
      },
      "execution_count": 70,
      "outputs": [
        {
          "output_type": "execute_result",
          "data": {
            "text/plain": [
              "0"
            ]
          },
          "metadata": {},
          "execution_count": 70
        }
      ]
    },
    {
      "cell_type": "code",
      "source": [
        "round(df.isnull().sum()/df.shape[0],2)"
      ],
      "metadata": {
        "colab": {
          "base_uri": "https://localhost:8080/"
        },
        "id": "oH2v5WjnpNMM",
        "outputId": "0bcbdbec-074a-461e-c580-f6e1298fd5b5"
      },
      "execution_count": 71,
      "outputs": [
        {
          "output_type": "execute_result",
          "data": {
            "text/plain": [
              "Activity    0.0\n",
              "Country     0.0\n",
              "X1          0.0\n",
              "X2          0.0\n",
              "X3          0.0\n",
              "X4          0.0\n",
              "X5          0.0\n",
              "X6          0.0\n",
              "X7          0.0\n",
              "X8          0.0\n",
              "X9          0.0\n",
              "X10         0.0\n",
              "X11         0.0\n",
              "X12         0.0\n",
              "X13         0.0\n",
              "X14         0.0\n",
              "X15         0.0\n",
              "X16         0.0\n",
              "X17         0.0\n",
              "X18         0.0\n",
              "X19         0.0\n",
              "X20         0.0\n",
              "X21         0.0\n",
              "X22         0.0\n",
              "X23         0.0\n",
              "X24         0.0\n",
              "X25         0.0\n",
              "X26         0.0\n",
              "X27         0.0\n",
              "X28         0.0\n",
              "X29         0.0\n",
              "X30         0.0\n",
              "dtype: float64"
            ]
          },
          "metadata": {},
          "execution_count": 71
        }
      ]
    },
    {
      "cell_type": "code",
      "source": [
        "df['Country'].value_counts()"
      ],
      "metadata": {
        "colab": {
          "base_uri": "https://localhost:8080/"
        },
        "id": "eKmYbXmOpUpa",
        "outputId": "cc3c008f-b846-42a9-f32a-1fd6f2844eab"
      },
      "execution_count": 72,
      "outputs": [
        {
          "output_type": "execute_result",
          "data": {
            "text/plain": [
              "Tau        1500\n",
              "Ofu        1271\n",
              "Olosega    1238\n",
              "Aunuu       991\n",
              "Name: Country, dtype: int64"
            ]
          },
          "metadata": {},
          "execution_count": 72
        }
      ]
    },
    {
      "cell_type": "code",
      "source": [
        "Country_1 = {'Tau' : 1.0, 'Ofu': 2.0, 'Olosega' : 3.0, \"Aunuu\": 4.0}\n",
        "df['Country'] = df['Country'].map(Country_1)"
      ],
      "metadata": {
        "id": "rj2RH3s2pnCn"
      },
      "execution_count": 73,
      "outputs": []
    },
    {
      "cell_type": "code",
      "source": [
        "df.head()"
      ],
      "metadata": {
        "colab": {
          "base_uri": "https://localhost:8080/",
          "height": 299
        },
        "id": "diw0sVgCqU5W",
        "outputId": "6dc63b3c-e194-49e5-e4c4-728c9781d5bc"
      },
      "execution_count": 74,
      "outputs": [
        {
          "output_type": "execute_result",
          "data": {
            "text/plain": [
              "   Activity  Country          X1          X2           X3           X4  \\\n",
              "0         1      1.0  514.112825  280.127163  2043.219975   983.894190   \n",
              "1         1      2.0  502.011480  367.139952  1578.241845   952.498432   \n",
              "2         1      1.0  553.445613  246.669667  1527.881591  1039.902223   \n",
              "3         1      3.0  493.511261  304.343252  1671.436908   836.613718   \n",
              "4         0      4.0  482.213205  428.869497  1538.468529   943.415119   \n",
              "\n",
              "           X5          X6          X7          X8  ...        X21         X22  \\\n",
              "0   62.264430  407.920959  873.090147  341.502421  ...  51.039549   90.502279   \n",
              "1  153.040439  387.172971  868.124526  361.961562  ...   0.000000    0.000000   \n",
              "2   32.232777  402.542573  801.059405  345.487249  ...   0.000000    0.000000   \n",
              "3  132.190120  368.481594  861.582675  343.469353  ...   0.000000    0.000000   \n",
              "4  160.019777  369.085979  849.722321  343.343067  ...  50.119562  133.679537   \n",
              "\n",
              "          X23         X24         X25         X26         X27          X28  \\\n",
              "0  794.425537  135.632398  605.175961  399.664283  309.623417  1438.193673   \n",
              "1    0.000000    0.000000    0.000000    0.000000    0.000000     0.000000   \n",
              "2    0.000000    0.000000    0.000000    0.000000    0.000000     0.000000   \n",
              "3    0.000000    0.000000    0.000000    0.000000    0.000000     0.000000   \n",
              "4  813.712626   88.676850  395.318535  333.471865  395.757204  1421.798388   \n",
              "\n",
              "          X29          X30  \n",
              "0  448.423683  1146.551728  \n",
              "1    0.000000     0.000000  \n",
              "2    0.000000     0.000000  \n",
              "3    0.000000     0.000000  \n",
              "4  440.439527  1344.631717  \n",
              "\n",
              "[5 rows x 32 columns]"
            ],
            "text/html": [
              "\n",
              "  <div id=\"df-8778f0b9-298a-48da-b757-9d4862e522b4\">\n",
              "    <div class=\"colab-df-container\">\n",
              "      <div>\n",
              "<style scoped>\n",
              "    .dataframe tbody tr th:only-of-type {\n",
              "        vertical-align: middle;\n",
              "    }\n",
              "\n",
              "    .dataframe tbody tr th {\n",
              "        vertical-align: top;\n",
              "    }\n",
              "\n",
              "    .dataframe thead th {\n",
              "        text-align: right;\n",
              "    }\n",
              "</style>\n",
              "<table border=\"1\" class=\"dataframe\">\n",
              "  <thead>\n",
              "    <tr style=\"text-align: right;\">\n",
              "      <th></th>\n",
              "      <th>Activity</th>\n",
              "      <th>Country</th>\n",
              "      <th>X1</th>\n",
              "      <th>X2</th>\n",
              "      <th>X3</th>\n",
              "      <th>X4</th>\n",
              "      <th>X5</th>\n",
              "      <th>X6</th>\n",
              "      <th>X7</th>\n",
              "      <th>X8</th>\n",
              "      <th>...</th>\n",
              "      <th>X21</th>\n",
              "      <th>X22</th>\n",
              "      <th>X23</th>\n",
              "      <th>X24</th>\n",
              "      <th>X25</th>\n",
              "      <th>X26</th>\n",
              "      <th>X27</th>\n",
              "      <th>X28</th>\n",
              "      <th>X29</th>\n",
              "      <th>X30</th>\n",
              "    </tr>\n",
              "  </thead>\n",
              "  <tbody>\n",
              "    <tr>\n",
              "      <th>0</th>\n",
              "      <td>1</td>\n",
              "      <td>1.0</td>\n",
              "      <td>514.112825</td>\n",
              "      <td>280.127163</td>\n",
              "      <td>2043.219975</td>\n",
              "      <td>983.894190</td>\n",
              "      <td>62.264430</td>\n",
              "      <td>407.920959</td>\n",
              "      <td>873.090147</td>\n",
              "      <td>341.502421</td>\n",
              "      <td>...</td>\n",
              "      <td>51.039549</td>\n",
              "      <td>90.502279</td>\n",
              "      <td>794.425537</td>\n",
              "      <td>135.632398</td>\n",
              "      <td>605.175961</td>\n",
              "      <td>399.664283</td>\n",
              "      <td>309.623417</td>\n",
              "      <td>1438.193673</td>\n",
              "      <td>448.423683</td>\n",
              "      <td>1146.551728</td>\n",
              "    </tr>\n",
              "    <tr>\n",
              "      <th>1</th>\n",
              "      <td>1</td>\n",
              "      <td>2.0</td>\n",
              "      <td>502.011480</td>\n",
              "      <td>367.139952</td>\n",
              "      <td>1578.241845</td>\n",
              "      <td>952.498432</td>\n",
              "      <td>153.040439</td>\n",
              "      <td>387.172971</td>\n",
              "      <td>868.124526</td>\n",
              "      <td>361.961562</td>\n",
              "      <td>...</td>\n",
              "      <td>0.000000</td>\n",
              "      <td>0.000000</td>\n",
              "      <td>0.000000</td>\n",
              "      <td>0.000000</td>\n",
              "      <td>0.000000</td>\n",
              "      <td>0.000000</td>\n",
              "      <td>0.000000</td>\n",
              "      <td>0.000000</td>\n",
              "      <td>0.000000</td>\n",
              "      <td>0.000000</td>\n",
              "    </tr>\n",
              "    <tr>\n",
              "      <th>2</th>\n",
              "      <td>1</td>\n",
              "      <td>1.0</td>\n",
              "      <td>553.445613</td>\n",
              "      <td>246.669667</td>\n",
              "      <td>1527.881591</td>\n",
              "      <td>1039.902223</td>\n",
              "      <td>32.232777</td>\n",
              "      <td>402.542573</td>\n",
              "      <td>801.059405</td>\n",
              "      <td>345.487249</td>\n",
              "      <td>...</td>\n",
              "      <td>0.000000</td>\n",
              "      <td>0.000000</td>\n",
              "      <td>0.000000</td>\n",
              "      <td>0.000000</td>\n",
              "      <td>0.000000</td>\n",
              "      <td>0.000000</td>\n",
              "      <td>0.000000</td>\n",
              "      <td>0.000000</td>\n",
              "      <td>0.000000</td>\n",
              "      <td>0.000000</td>\n",
              "    </tr>\n",
              "    <tr>\n",
              "      <th>3</th>\n",
              "      <td>1</td>\n",
              "      <td>3.0</td>\n",
              "      <td>493.511261</td>\n",
              "      <td>304.343252</td>\n",
              "      <td>1671.436908</td>\n",
              "      <td>836.613718</td>\n",
              "      <td>132.190120</td>\n",
              "      <td>368.481594</td>\n",
              "      <td>861.582675</td>\n",
              "      <td>343.469353</td>\n",
              "      <td>...</td>\n",
              "      <td>0.000000</td>\n",
              "      <td>0.000000</td>\n",
              "      <td>0.000000</td>\n",
              "      <td>0.000000</td>\n",
              "      <td>0.000000</td>\n",
              "      <td>0.000000</td>\n",
              "      <td>0.000000</td>\n",
              "      <td>0.000000</td>\n",
              "      <td>0.000000</td>\n",
              "      <td>0.000000</td>\n",
              "    </tr>\n",
              "    <tr>\n",
              "      <th>4</th>\n",
              "      <td>0</td>\n",
              "      <td>4.0</td>\n",
              "      <td>482.213205</td>\n",
              "      <td>428.869497</td>\n",
              "      <td>1538.468529</td>\n",
              "      <td>943.415119</td>\n",
              "      <td>160.019777</td>\n",
              "      <td>369.085979</td>\n",
              "      <td>849.722321</td>\n",
              "      <td>343.343067</td>\n",
              "      <td>...</td>\n",
              "      <td>50.119562</td>\n",
              "      <td>133.679537</td>\n",
              "      <td>813.712626</td>\n",
              "      <td>88.676850</td>\n",
              "      <td>395.318535</td>\n",
              "      <td>333.471865</td>\n",
              "      <td>395.757204</td>\n",
              "      <td>1421.798388</td>\n",
              "      <td>440.439527</td>\n",
              "      <td>1344.631717</td>\n",
              "    </tr>\n",
              "  </tbody>\n",
              "</table>\n",
              "<p>5 rows × 32 columns</p>\n",
              "</div>\n",
              "      <button class=\"colab-df-convert\" onclick=\"convertToInteractive('df-8778f0b9-298a-48da-b757-9d4862e522b4')\"\n",
              "              title=\"Convert this dataframe to an interactive table.\"\n",
              "              style=\"display:none;\">\n",
              "        \n",
              "  <svg xmlns=\"http://www.w3.org/2000/svg\" height=\"24px\"viewBox=\"0 0 24 24\"\n",
              "       width=\"24px\">\n",
              "    <path d=\"M0 0h24v24H0V0z\" fill=\"none\"/>\n",
              "    <path d=\"M18.56 5.44l.94 2.06.94-2.06 2.06-.94-2.06-.94-.94-2.06-.94 2.06-2.06.94zm-11 1L8.5 8.5l.94-2.06 2.06-.94-2.06-.94L8.5 2.5l-.94 2.06-2.06.94zm10 10l.94 2.06.94-2.06 2.06-.94-2.06-.94-.94-2.06-.94 2.06-2.06.94z\"/><path d=\"M17.41 7.96l-1.37-1.37c-.4-.4-.92-.59-1.43-.59-.52 0-1.04.2-1.43.59L10.3 9.45l-7.72 7.72c-.78.78-.78 2.05 0 2.83L4 21.41c.39.39.9.59 1.41.59.51 0 1.02-.2 1.41-.59l7.78-7.78 2.81-2.81c.8-.78.8-2.07 0-2.86zM5.41 20L4 18.59l7.72-7.72 1.47 1.35L5.41 20z\"/>\n",
              "  </svg>\n",
              "      </button>\n",
              "      \n",
              "  <style>\n",
              "    .colab-df-container {\n",
              "      display:flex;\n",
              "      flex-wrap:wrap;\n",
              "      gap: 12px;\n",
              "    }\n",
              "\n",
              "    .colab-df-convert {\n",
              "      background-color: #E8F0FE;\n",
              "      border: none;\n",
              "      border-radius: 50%;\n",
              "      cursor: pointer;\n",
              "      display: none;\n",
              "      fill: #1967D2;\n",
              "      height: 32px;\n",
              "      padding: 0 0 0 0;\n",
              "      width: 32px;\n",
              "    }\n",
              "\n",
              "    .colab-df-convert:hover {\n",
              "      background-color: #E2EBFA;\n",
              "      box-shadow: 0px 1px 2px rgba(60, 64, 67, 0.3), 0px 1px 3px 1px rgba(60, 64, 67, 0.15);\n",
              "      fill: #174EA6;\n",
              "    }\n",
              "\n",
              "    [theme=dark] .colab-df-convert {\n",
              "      background-color: #3B4455;\n",
              "      fill: #D2E3FC;\n",
              "    }\n",
              "\n",
              "    [theme=dark] .colab-df-convert:hover {\n",
              "      background-color: #434B5C;\n",
              "      box-shadow: 0px 1px 3px 1px rgba(0, 0, 0, 0.15);\n",
              "      filter: drop-shadow(0px 1px 2px rgba(0, 0, 0, 0.3));\n",
              "      fill: #FFFFFF;\n",
              "    }\n",
              "  </style>\n",
              "\n",
              "      <script>\n",
              "        const buttonEl =\n",
              "          document.querySelector('#df-8778f0b9-298a-48da-b757-9d4862e522b4 button.colab-df-convert');\n",
              "        buttonEl.style.display =\n",
              "          google.colab.kernel.accessAllowed ? 'block' : 'none';\n",
              "\n",
              "        async function convertToInteractive(key) {\n",
              "          const element = document.querySelector('#df-8778f0b9-298a-48da-b757-9d4862e522b4');\n",
              "          const dataTable =\n",
              "            await google.colab.kernel.invokeFunction('convertToInteractive',\n",
              "                                                     [key], {});\n",
              "          if (!dataTable) return;\n",
              "\n",
              "          const docLinkHtml = 'Like what you see? Visit the ' +\n",
              "            '<a target=\"_blank\" href=https://colab.research.google.com/notebooks/data_table.ipynb>data table notebook</a>'\n",
              "            + ' to learn more about interactive tables.';\n",
              "          element.innerHTML = '';\n",
              "          dataTable['output_type'] = 'display_data';\n",
              "          await google.colab.output.renderOutput(dataTable, element);\n",
              "          const docLink = document.createElement('div');\n",
              "          docLink.innerHTML = docLinkHtml;\n",
              "          element.appendChild(docLink);\n",
              "        }\n",
              "      </script>\n",
              "    </div>\n",
              "  </div>\n",
              "  "
            ]
          },
          "metadata": {},
          "execution_count": 74
        }
      ]
    },
    {
      "cell_type": "code",
      "source": [
        "df = df[np.isfinite(df).all(1)]"
      ],
      "metadata": {
        "id": "2PEI6CFJmGax"
      },
      "execution_count": 75,
      "outputs": []
    },
    {
      "cell_type": "code",
      "source": [
        "df"
      ],
      "metadata": {
        "colab": {
          "base_uri": "https://localhost:8080/",
          "height": 488
        },
        "id": "LxOW08dUmJwi",
        "outputId": "3ccc402c-c1db-453c-a1be-f76d2742de04"
      },
      "execution_count": 76,
      "outputs": [
        {
          "output_type": "execute_result",
          "data": {
            "text/plain": [
              "      Activity  Country          X1          X2           X3           X4  \\\n",
              "0            1      1.0  514.112825  280.127163  2043.219975   983.894190   \n",
              "1            1      2.0  502.011480  367.139952  1578.241845   952.498432   \n",
              "2            1      1.0  553.445613  246.669667  1527.881591  1039.902223   \n",
              "3            1      3.0  493.511261  304.343252  1671.436908   836.613718   \n",
              "4            0      4.0  482.213205  428.869497  1538.468529   943.415119   \n",
              "...        ...      ...         ...         ...          ...          ...   \n",
              "4995         1      3.0  477.903767  267.275414  1531.616103  1027.967177   \n",
              "4996         0      1.0  488.848448  249.257511  1674.987347   928.696906   \n",
              "4997         1      3.0  480.803161  257.754345  1556.059212   841.777564   \n",
              "4998         1      3.0  458.078947  309.133672  1866.103446   875.883615   \n",
              "4999         1      1.0  475.702424  264.122646  2121.378464   892.027773   \n",
              "\n",
              "              X5          X6          X7          X8  ...        X21  \\\n",
              "0      62.264430  407.920959  873.090147  341.502421  ...  51.039549   \n",
              "1     153.040439  387.172971  868.124526  361.961562  ...   0.000000   \n",
              "2      32.232777  402.542573  801.059405  345.487249  ...   0.000000   \n",
              "3     132.190120  368.481594  861.582675  343.469353  ...   0.000000   \n",
              "4     160.019777  369.085979  849.722321  343.343067  ...  50.119562   \n",
              "...          ...         ...         ...         ...  ...        ...   \n",
              "4995  127.378339  363.823272  856.536041  336.276056  ...  51.715774   \n",
              "4996  161.415992  370.681772  866.567323  341.957247  ...   0.000000   \n",
              "4997  184.081233  418.356418  845.644802  324.075123  ...   0.000000   \n",
              "4998  150.059629  398.529310  832.777748  351.161747  ...   0.000000   \n",
              "4999   80.496759  364.936221  813.328713  323.902042  ...   0.000000   \n",
              "\n",
              "             X22         X23         X24         X25         X26         X27  \\\n",
              "0      90.502279  794.425537  135.632398  605.175961  399.664283  309.623417   \n",
              "1       0.000000    0.000000    0.000000    0.000000    0.000000    0.000000   \n",
              "2       0.000000    0.000000    0.000000    0.000000    0.000000    0.000000   \n",
              "3       0.000000    0.000000    0.000000    0.000000    0.000000    0.000000   \n",
              "4     133.679537  813.712626   88.676850  395.318535  333.471865  395.757204   \n",
              "...          ...         ...         ...         ...         ...         ...   \n",
              "4995   16.721330  825.541984   58.612293  467.828817  306.428589  322.175846   \n",
              "4996    0.000000    0.000000    0.000000    0.000000    0.000000    0.000000   \n",
              "4997    0.000000    0.000000    0.000000    0.000000    0.000000    0.000000   \n",
              "4998    0.000000    0.000000    0.000000    0.000000    0.000000    0.000000   \n",
              "4999    0.000000    0.000000    0.000000    0.000000    0.000000    0.000000   \n",
              "\n",
              "              X28         X29          X30  \n",
              "0     1438.193673  448.423683  1146.551728  \n",
              "1        0.000000    0.000000     0.000000  \n",
              "2        0.000000    0.000000     0.000000  \n",
              "3        0.000000    0.000000     0.000000  \n",
              "4     1421.798388  440.439527  1344.631717  \n",
              "...           ...         ...          ...  \n",
              "4995  1475.619566  385.415927  1145.115537  \n",
              "4996     0.000000    0.000000     0.000000  \n",
              "4997     0.000000    0.000000     0.000000  \n",
              "4998     0.000000    0.000000     0.000000  \n",
              "4999     0.000000    0.000000     0.000000  \n",
              "\n",
              "[4995 rows x 32 columns]"
            ],
            "text/html": [
              "\n",
              "  <div id=\"df-f8373193-f7a0-46ed-be68-2d51b10b3afa\">\n",
              "    <div class=\"colab-df-container\">\n",
              "      <div>\n",
              "<style scoped>\n",
              "    .dataframe tbody tr th:only-of-type {\n",
              "        vertical-align: middle;\n",
              "    }\n",
              "\n",
              "    .dataframe tbody tr th {\n",
              "        vertical-align: top;\n",
              "    }\n",
              "\n",
              "    .dataframe thead th {\n",
              "        text-align: right;\n",
              "    }\n",
              "</style>\n",
              "<table border=\"1\" class=\"dataframe\">\n",
              "  <thead>\n",
              "    <tr style=\"text-align: right;\">\n",
              "      <th></th>\n",
              "      <th>Activity</th>\n",
              "      <th>Country</th>\n",
              "      <th>X1</th>\n",
              "      <th>X2</th>\n",
              "      <th>X3</th>\n",
              "      <th>X4</th>\n",
              "      <th>X5</th>\n",
              "      <th>X6</th>\n",
              "      <th>X7</th>\n",
              "      <th>X8</th>\n",
              "      <th>...</th>\n",
              "      <th>X21</th>\n",
              "      <th>X22</th>\n",
              "      <th>X23</th>\n",
              "      <th>X24</th>\n",
              "      <th>X25</th>\n",
              "      <th>X26</th>\n",
              "      <th>X27</th>\n",
              "      <th>X28</th>\n",
              "      <th>X29</th>\n",
              "      <th>X30</th>\n",
              "    </tr>\n",
              "  </thead>\n",
              "  <tbody>\n",
              "    <tr>\n",
              "      <th>0</th>\n",
              "      <td>1</td>\n",
              "      <td>1.0</td>\n",
              "      <td>514.112825</td>\n",
              "      <td>280.127163</td>\n",
              "      <td>2043.219975</td>\n",
              "      <td>983.894190</td>\n",
              "      <td>62.264430</td>\n",
              "      <td>407.920959</td>\n",
              "      <td>873.090147</td>\n",
              "      <td>341.502421</td>\n",
              "      <td>...</td>\n",
              "      <td>51.039549</td>\n",
              "      <td>90.502279</td>\n",
              "      <td>794.425537</td>\n",
              "      <td>135.632398</td>\n",
              "      <td>605.175961</td>\n",
              "      <td>399.664283</td>\n",
              "      <td>309.623417</td>\n",
              "      <td>1438.193673</td>\n",
              "      <td>448.423683</td>\n",
              "      <td>1146.551728</td>\n",
              "    </tr>\n",
              "    <tr>\n",
              "      <th>1</th>\n",
              "      <td>1</td>\n",
              "      <td>2.0</td>\n",
              "      <td>502.011480</td>\n",
              "      <td>367.139952</td>\n",
              "      <td>1578.241845</td>\n",
              "      <td>952.498432</td>\n",
              "      <td>153.040439</td>\n",
              "      <td>387.172971</td>\n",
              "      <td>868.124526</td>\n",
              "      <td>361.961562</td>\n",
              "      <td>...</td>\n",
              "      <td>0.000000</td>\n",
              "      <td>0.000000</td>\n",
              "      <td>0.000000</td>\n",
              "      <td>0.000000</td>\n",
              "      <td>0.000000</td>\n",
              "      <td>0.000000</td>\n",
              "      <td>0.000000</td>\n",
              "      <td>0.000000</td>\n",
              "      <td>0.000000</td>\n",
              "      <td>0.000000</td>\n",
              "    </tr>\n",
              "    <tr>\n",
              "      <th>2</th>\n",
              "      <td>1</td>\n",
              "      <td>1.0</td>\n",
              "      <td>553.445613</td>\n",
              "      <td>246.669667</td>\n",
              "      <td>1527.881591</td>\n",
              "      <td>1039.902223</td>\n",
              "      <td>32.232777</td>\n",
              "      <td>402.542573</td>\n",
              "      <td>801.059405</td>\n",
              "      <td>345.487249</td>\n",
              "      <td>...</td>\n",
              "      <td>0.000000</td>\n",
              "      <td>0.000000</td>\n",
              "      <td>0.000000</td>\n",
              "      <td>0.000000</td>\n",
              "      <td>0.000000</td>\n",
              "      <td>0.000000</td>\n",
              "      <td>0.000000</td>\n",
              "      <td>0.000000</td>\n",
              "      <td>0.000000</td>\n",
              "      <td>0.000000</td>\n",
              "    </tr>\n",
              "    <tr>\n",
              "      <th>3</th>\n",
              "      <td>1</td>\n",
              "      <td>3.0</td>\n",
              "      <td>493.511261</td>\n",
              "      <td>304.343252</td>\n",
              "      <td>1671.436908</td>\n",
              "      <td>836.613718</td>\n",
              "      <td>132.190120</td>\n",
              "      <td>368.481594</td>\n",
              "      <td>861.582675</td>\n",
              "      <td>343.469353</td>\n",
              "      <td>...</td>\n",
              "      <td>0.000000</td>\n",
              "      <td>0.000000</td>\n",
              "      <td>0.000000</td>\n",
              "      <td>0.000000</td>\n",
              "      <td>0.000000</td>\n",
              "      <td>0.000000</td>\n",
              "      <td>0.000000</td>\n",
              "      <td>0.000000</td>\n",
              "      <td>0.000000</td>\n",
              "      <td>0.000000</td>\n",
              "    </tr>\n",
              "    <tr>\n",
              "      <th>4</th>\n",
              "      <td>0</td>\n",
              "      <td>4.0</td>\n",
              "      <td>482.213205</td>\n",
              "      <td>428.869497</td>\n",
              "      <td>1538.468529</td>\n",
              "      <td>943.415119</td>\n",
              "      <td>160.019777</td>\n",
              "      <td>369.085979</td>\n",
              "      <td>849.722321</td>\n",
              "      <td>343.343067</td>\n",
              "      <td>...</td>\n",
              "      <td>50.119562</td>\n",
              "      <td>133.679537</td>\n",
              "      <td>813.712626</td>\n",
              "      <td>88.676850</td>\n",
              "      <td>395.318535</td>\n",
              "      <td>333.471865</td>\n",
              "      <td>395.757204</td>\n",
              "      <td>1421.798388</td>\n",
              "      <td>440.439527</td>\n",
              "      <td>1344.631717</td>\n",
              "    </tr>\n",
              "    <tr>\n",
              "      <th>...</th>\n",
              "      <td>...</td>\n",
              "      <td>...</td>\n",
              "      <td>...</td>\n",
              "      <td>...</td>\n",
              "      <td>...</td>\n",
              "      <td>...</td>\n",
              "      <td>...</td>\n",
              "      <td>...</td>\n",
              "      <td>...</td>\n",
              "      <td>...</td>\n",
              "      <td>...</td>\n",
              "      <td>...</td>\n",
              "      <td>...</td>\n",
              "      <td>...</td>\n",
              "      <td>...</td>\n",
              "      <td>...</td>\n",
              "      <td>...</td>\n",
              "      <td>...</td>\n",
              "      <td>...</td>\n",
              "      <td>...</td>\n",
              "      <td>...</td>\n",
              "    </tr>\n",
              "    <tr>\n",
              "      <th>4995</th>\n",
              "      <td>1</td>\n",
              "      <td>3.0</td>\n",
              "      <td>477.903767</td>\n",
              "      <td>267.275414</td>\n",
              "      <td>1531.616103</td>\n",
              "      <td>1027.967177</td>\n",
              "      <td>127.378339</td>\n",
              "      <td>363.823272</td>\n",
              "      <td>856.536041</td>\n",
              "      <td>336.276056</td>\n",
              "      <td>...</td>\n",
              "      <td>51.715774</td>\n",
              "      <td>16.721330</td>\n",
              "      <td>825.541984</td>\n",
              "      <td>58.612293</td>\n",
              "      <td>467.828817</td>\n",
              "      <td>306.428589</td>\n",
              "      <td>322.175846</td>\n",
              "      <td>1475.619566</td>\n",
              "      <td>385.415927</td>\n",
              "      <td>1145.115537</td>\n",
              "    </tr>\n",
              "    <tr>\n",
              "      <th>4996</th>\n",
              "      <td>0</td>\n",
              "      <td>1.0</td>\n",
              "      <td>488.848448</td>\n",
              "      <td>249.257511</td>\n",
              "      <td>1674.987347</td>\n",
              "      <td>928.696906</td>\n",
              "      <td>161.415992</td>\n",
              "      <td>370.681772</td>\n",
              "      <td>866.567323</td>\n",
              "      <td>341.957247</td>\n",
              "      <td>...</td>\n",
              "      <td>0.000000</td>\n",
              "      <td>0.000000</td>\n",
              "      <td>0.000000</td>\n",
              "      <td>0.000000</td>\n",
              "      <td>0.000000</td>\n",
              "      <td>0.000000</td>\n",
              "      <td>0.000000</td>\n",
              "      <td>0.000000</td>\n",
              "      <td>0.000000</td>\n",
              "      <td>0.000000</td>\n",
              "    </tr>\n",
              "    <tr>\n",
              "      <th>4997</th>\n",
              "      <td>1</td>\n",
              "      <td>3.0</td>\n",
              "      <td>480.803161</td>\n",
              "      <td>257.754345</td>\n",
              "      <td>1556.059212</td>\n",
              "      <td>841.777564</td>\n",
              "      <td>184.081233</td>\n",
              "      <td>418.356418</td>\n",
              "      <td>845.644802</td>\n",
              "      <td>324.075123</td>\n",
              "      <td>...</td>\n",
              "      <td>0.000000</td>\n",
              "      <td>0.000000</td>\n",
              "      <td>0.000000</td>\n",
              "      <td>0.000000</td>\n",
              "      <td>0.000000</td>\n",
              "      <td>0.000000</td>\n",
              "      <td>0.000000</td>\n",
              "      <td>0.000000</td>\n",
              "      <td>0.000000</td>\n",
              "      <td>0.000000</td>\n",
              "    </tr>\n",
              "    <tr>\n",
              "      <th>4998</th>\n",
              "      <td>1</td>\n",
              "      <td>3.0</td>\n",
              "      <td>458.078947</td>\n",
              "      <td>309.133672</td>\n",
              "      <td>1866.103446</td>\n",
              "      <td>875.883615</td>\n",
              "      <td>150.059629</td>\n",
              "      <td>398.529310</td>\n",
              "      <td>832.777748</td>\n",
              "      <td>351.161747</td>\n",
              "      <td>...</td>\n",
              "      <td>0.000000</td>\n",
              "      <td>0.000000</td>\n",
              "      <td>0.000000</td>\n",
              "      <td>0.000000</td>\n",
              "      <td>0.000000</td>\n",
              "      <td>0.000000</td>\n",
              "      <td>0.000000</td>\n",
              "      <td>0.000000</td>\n",
              "      <td>0.000000</td>\n",
              "      <td>0.000000</td>\n",
              "    </tr>\n",
              "    <tr>\n",
              "      <th>4999</th>\n",
              "      <td>1</td>\n",
              "      <td>1.0</td>\n",
              "      <td>475.702424</td>\n",
              "      <td>264.122646</td>\n",
              "      <td>2121.378464</td>\n",
              "      <td>892.027773</td>\n",
              "      <td>80.496759</td>\n",
              "      <td>364.936221</td>\n",
              "      <td>813.328713</td>\n",
              "      <td>323.902042</td>\n",
              "      <td>...</td>\n",
              "      <td>0.000000</td>\n",
              "      <td>0.000000</td>\n",
              "      <td>0.000000</td>\n",
              "      <td>0.000000</td>\n",
              "      <td>0.000000</td>\n",
              "      <td>0.000000</td>\n",
              "      <td>0.000000</td>\n",
              "      <td>0.000000</td>\n",
              "      <td>0.000000</td>\n",
              "      <td>0.000000</td>\n",
              "    </tr>\n",
              "  </tbody>\n",
              "</table>\n",
              "<p>4995 rows × 32 columns</p>\n",
              "</div>\n",
              "      <button class=\"colab-df-convert\" onclick=\"convertToInteractive('df-f8373193-f7a0-46ed-be68-2d51b10b3afa')\"\n",
              "              title=\"Convert this dataframe to an interactive table.\"\n",
              "              style=\"display:none;\">\n",
              "        \n",
              "  <svg xmlns=\"http://www.w3.org/2000/svg\" height=\"24px\"viewBox=\"0 0 24 24\"\n",
              "       width=\"24px\">\n",
              "    <path d=\"M0 0h24v24H0V0z\" fill=\"none\"/>\n",
              "    <path d=\"M18.56 5.44l.94 2.06.94-2.06 2.06-.94-2.06-.94-.94-2.06-.94 2.06-2.06.94zm-11 1L8.5 8.5l.94-2.06 2.06-.94-2.06-.94L8.5 2.5l-.94 2.06-2.06.94zm10 10l.94 2.06.94-2.06 2.06-.94-2.06-.94-.94-2.06-.94 2.06-2.06.94z\"/><path d=\"M17.41 7.96l-1.37-1.37c-.4-.4-.92-.59-1.43-.59-.52 0-1.04.2-1.43.59L10.3 9.45l-7.72 7.72c-.78.78-.78 2.05 0 2.83L4 21.41c.39.39.9.59 1.41.59.51 0 1.02-.2 1.41-.59l7.78-7.78 2.81-2.81c.8-.78.8-2.07 0-2.86zM5.41 20L4 18.59l7.72-7.72 1.47 1.35L5.41 20z\"/>\n",
              "  </svg>\n",
              "      </button>\n",
              "      \n",
              "  <style>\n",
              "    .colab-df-container {\n",
              "      display:flex;\n",
              "      flex-wrap:wrap;\n",
              "      gap: 12px;\n",
              "    }\n",
              "\n",
              "    .colab-df-convert {\n",
              "      background-color: #E8F0FE;\n",
              "      border: none;\n",
              "      border-radius: 50%;\n",
              "      cursor: pointer;\n",
              "      display: none;\n",
              "      fill: #1967D2;\n",
              "      height: 32px;\n",
              "      padding: 0 0 0 0;\n",
              "      width: 32px;\n",
              "    }\n",
              "\n",
              "    .colab-df-convert:hover {\n",
              "      background-color: #E2EBFA;\n",
              "      box-shadow: 0px 1px 2px rgba(60, 64, 67, 0.3), 0px 1px 3px 1px rgba(60, 64, 67, 0.15);\n",
              "      fill: #174EA6;\n",
              "    }\n",
              "\n",
              "    [theme=dark] .colab-df-convert {\n",
              "      background-color: #3B4455;\n",
              "      fill: #D2E3FC;\n",
              "    }\n",
              "\n",
              "    [theme=dark] .colab-df-convert:hover {\n",
              "      background-color: #434B5C;\n",
              "      box-shadow: 0px 1px 3px 1px rgba(0, 0, 0, 0.15);\n",
              "      filter: drop-shadow(0px 1px 2px rgba(0, 0, 0, 0.3));\n",
              "      fill: #FFFFFF;\n",
              "    }\n",
              "  </style>\n",
              "\n",
              "      <script>\n",
              "        const buttonEl =\n",
              "          document.querySelector('#df-f8373193-f7a0-46ed-be68-2d51b10b3afa button.colab-df-convert');\n",
              "        buttonEl.style.display =\n",
              "          google.colab.kernel.accessAllowed ? 'block' : 'none';\n",
              "\n",
              "        async function convertToInteractive(key) {\n",
              "          const element = document.querySelector('#df-f8373193-f7a0-46ed-be68-2d51b10b3afa');\n",
              "          const dataTable =\n",
              "            await google.colab.kernel.invokeFunction('convertToInteractive',\n",
              "                                                     [key], {});\n",
              "          if (!dataTable) return;\n",
              "\n",
              "          const docLinkHtml = 'Like what you see? Visit the ' +\n",
              "            '<a target=\"_blank\" href=https://colab.research.google.com/notebooks/data_table.ipynb>data table notebook</a>'\n",
              "            + ' to learn more about interactive tables.';\n",
              "          element.innerHTML = '';\n",
              "          dataTable['output_type'] = 'display_data';\n",
              "          await google.colab.output.renderOutput(dataTable, element);\n",
              "          const docLink = document.createElement('div');\n",
              "          docLink.innerHTML = docLinkHtml;\n",
              "          element.appendChild(docLink);\n",
              "        }\n",
              "      </script>\n",
              "    </div>\n",
              "  </div>\n",
              "  "
            ]
          },
          "metadata": {},
          "execution_count": 76
        }
      ]
    },
    {
      "cell_type": "code",
      "source": [
        "from sklearn.linear_model import LinearRegression\n",
        "sffs = SFS(LinearRegression(),\n",
        "           k_features=5,\n",
        "           forward=True,\n",
        "           floating=True,\n",
        "           scoring = 'neg_mean_squared_error',\n",
        "           cv = 0)\n",
        "\n",
        "\n",
        "X = df.iloc[:, 1:]\n",
        "y = df.iloc[:, :1]\n",
        "\n",
        "sffs.fit(X, y)"
      ],
      "metadata": {
        "colab": {
          "base_uri": "https://localhost:8080/"
        },
        "id": "55PaSmwhjfhk",
        "outputId": "6f3b1ea9-3ad6-4e44-8e20-0f0c0f034e3c"
      },
      "execution_count": 77,
      "outputs": [
        {
          "output_type": "execute_result",
          "data": {
            "text/plain": [
              "SequentialFeatureSelector(cv=0, estimator=LinearRegression(), floating=True,\n",
              "                          k_features=(5, 5), scoring='neg_mean_squared_error')"
            ]
          },
          "metadata": {},
          "execution_count": 77
        }
      ]
    },
    {
      "cell_type": "code",
      "source": [
        "df['Country'].unique()"
      ],
      "metadata": {
        "colab": {
          "base_uri": "https://localhost:8080/"
        },
        "id": "IfHlJrU7qW1X",
        "outputId": "20770aa3-b43d-4a51-9144-f5f4e77c4907"
      },
      "execution_count": 78,
      "outputs": [
        {
          "output_type": "execute_result",
          "data": {
            "text/plain": [
              "array([1., 2., 3., 4.])"
            ]
          },
          "metadata": {},
          "execution_count": 78
        }
      ]
    },
    {
      "cell_type": "code",
      "source": [
        "from sklearn.ensemble import RandomForestClassifier\n",
        "target = df[['Activity']]\n",
        "feature = df.drop(columns = ['Country','Activity'])\n",
        "\n",
        "rf = RandomForestClassifier()"
      ],
      "metadata": {
        "id": "tToLvskwqeLz"
      },
      "execution_count": 79,
      "outputs": []
    },
    {
      "cell_type": "code",
      "source": [
        "target['Activity'].unique()"
      ],
      "metadata": {
        "colab": {
          "base_uri": "https://localhost:8080/"
        },
        "id": "Fmwg7F32rWlx",
        "outputId": "353aac92-9bd9-40a3-98cd-85c75f8a3cd6"
      },
      "execution_count": 80,
      "outputs": [
        {
          "output_type": "execute_result",
          "data": {
            "text/plain": [
              "array([1, 0])"
            ]
          },
          "metadata": {},
          "execution_count": 80
        }
      ]
    },
    {
      "cell_type": "code",
      "source": [],
      "metadata": {
        "id": "_xJ-8SnixeZN"
      },
      "execution_count": 80,
      "outputs": []
    },
    {
      "cell_type": "code",
      "source": [
        "rf.fit(feature,target)\n",
        "plt.figure(figsize=(15, 8))\n",
        "g = sns.barplot(y=rf.feature_importances_,x=feature.columns,edgecolor=\"black\",linewidth=3,color=\"#87ceed\")\n",
        "plt.plot()"
      ],
      "metadata": {
        "colab": {
          "base_uri": "https://localhost:8080/",
          "height": 543
        },
        "id": "GFMfwCS2rf8-",
        "outputId": "3808cefa-573d-40b4-d2b1-8857b58f92d1"
      },
      "execution_count": 81,
      "outputs": [
        {
          "output_type": "stream",
          "name": "stderr",
          "text": [
            "<ipython-input-81-e81f6cac3089>:1: DataConversionWarning: A column-vector y was passed when a 1d array was expected. Please change the shape of y to (n_samples,), for example using ravel().\n",
            "  rf.fit(feature,target)\n"
          ]
        },
        {
          "output_type": "execute_result",
          "data": {
            "text/plain": [
              "[]"
            ]
          },
          "metadata": {},
          "execution_count": 81
        },
        {
          "output_type": "display_data",
          "data": {
            "text/plain": [
              "<Figure size 1080x576 with 1 Axes>"
            ],
            "image/png": "[encoded data removed]"
          },
          "metadata": {
            "needs_background": "light"
          }
        }
      ]
    },
    {
      "cell_type": "code",
      "source": [
        "X = df.drop(columns = ['Activity','X20','X21','X22', 'X23','X24','X25','X26','X27','X28','X29'])\n",
        "Y = df[['Activity']]"
      ],
      "metadata": {
        "id": "Sfpo6MVbtBC9"
      },
      "execution_count": 83,
      "outputs": []
    },
    {
      "cell_type": "code",
      "source": [
        "from sklearn.model_selection import train_test_split, cross_val_score\n",
        "X_train, X_test, Y_train, Y_test = train_test_split(X, Y, test_size=0.20)"
      ],
      "metadata": {
        "id": "d07_ZyRXulKS"
      },
      "execution_count": 84,
      "outputs": []
    },
    {
      "cell_type": "code",
      "source": [
        "import xgboost as xgb\n",
        "xgb_ = xgb.XGBClassifier(learning_rate=0.1, n_estimators=400, max_depth= 5, min_child_weight= 1, gamma = 0, subsample= 0.8, colsample_bytree= 0.8, objective = \"binary:logistic\", nthread = 4, seed = 27)\n"
      ],
      "metadata": {
        "id": "3hkrGb25uoCq"
      },
      "execution_count": 85,
      "outputs": []
    },
    {
      "cell_type": "code",
      "source": [
        "xgb_.fit(X_train, Y_train)"
      ],
      "metadata": {
        "colab": {
          "base_uri": "https://localhost:8080/"
        },
        "id": "upqzA9L1urCm",
        "outputId": "fc4f84ef-fb77-488d-8e0d-2947df816648"
      },
      "execution_count": 86,
      "outputs": [
        {
          "output_type": "execute_result",
          "data": {
            "text/plain": [
              "XGBClassifier(base_score=None, booster=None, callbacks=None,\n",
              "              colsample_bylevel=None, colsample_bynode=None,\n",
              "              colsample_bytree=0.8, early_stopping_rounds=None,\n",
              "              enable_categorical=False, eval_metric=None, feature_types=None,\n",
              "              gamma=0, gpu_id=None, grow_policy=None, importance_type=None,\n",
              "              interaction_constraints=None, learning_rate=0.1, max_bin=None,\n",
              "              max_cat_threshold=None, max_cat_to_onehot=None,\n",
              "              max_delta_step=None, max_depth=5, max_leaves=None,\n",
              "              min_child_weight=1, missing=nan, monotone_constraints=None,\n",
              "              n_estimators=400, n_jobs=None, nthread=4, num_parallel_tree=None,\n",
              "              predictor=None, ...)"
            ]
          },
          "metadata": {},
          "execution_count": 86
        }
      ]
    },
    {
      "cell_type": "code",
      "source": [
        "pre_xgb = xgb_.predict(X_test)\n",
        "xgb_prob = xgb_.predict_proba(X_test)[:,1]"
      ],
      "metadata": {
        "id": "K3HME3Gyuwwq"
      },
      "execution_count": 87,
      "outputs": []
    },
    {
      "cell_type": "code",
      "source": [
        "from sklearn.metrics import classification_report"
      ],
      "metadata": {
        "id": "wcUcVTP4u20r"
      },
      "execution_count": 88,
      "outputs": []
    },
    {
      "cell_type": "code",
      "source": [
        "print(classification_report(Y_test,pre_xgb))"
      ],
      "metadata": {
        "colab": {
          "base_uri": "https://localhost:8080/"
        },
        "id": "E7vJFb0qu5g1",
        "outputId": "b6d7903f-6bd7-40c0-a6bd-1afdfe5fab19"
      },
      "execution_count": 89,
      "outputs": [
        {
          "output_type": "stream",
          "name": "stdout",
          "text": [
            "              precision    recall  f1-score   support\n",
            "\n",
            "           0       0.74      0.70      0.72       514\n",
            "           1       0.70      0.74      0.72       485\n",
            "\n",
            "    accuracy                           0.72       999\n",
            "   macro avg       0.72      0.72      0.72       999\n",
            "weighted avg       0.72      0.72      0.72       999\n",
            "\n"
          ]
        }
      ]
    },
    {
      "cell_type": "code",
      "source": [
        "rf_1 = RandomForestClassifier()\n",
        "rf_1.fit(X_train, Y_train)\n",
        "rf_1_pre = rf_1.predict(X_test)\n",
        "rf_1_prob = rf_1.predict_proba(X_test)[:, 1]"
      ],
      "metadata": {
        "colab": {
          "base_uri": "https://localhost:8080/"
        },
        "id": "HNOYMcYzu8Jd",
        "outputId": "c053fe79-8838-4c61-8957-eff5bdfbf08d"
      },
      "execution_count": 90,
      "outputs": [
        {
          "output_type": "stream",
          "name": "stderr",
          "text": [
            "<ipython-input-90-ae1c2d0da0e4>:2: DataConversionWarning: A column-vector y was passed when a 1d array was expected. Please change the shape of y to (n_samples,), for example using ravel().\n",
            "  rf_1.fit(X_train, Y_train)\n"
          ]
        }
      ]
    },
    {
      "cell_type": "code",
      "source": [
        "print(classification_report(Y_test, rf_1_pre))"
      ],
      "metadata": {
        "id": "htx0fx8nvB0d",
        "colab": {
          "base_uri": "https://localhost:8080/"
        },
        "outputId": "9e99ecc7-d5c4-4c77-9602-cdee88f6259e"
      },
      "execution_count": 91,
      "outputs": [
        {
          "output_type": "stream",
          "name": "stdout",
          "text": [
            "              precision    recall  f1-score   support\n",
            "\n",
            "           0       0.75      0.72      0.74       514\n",
            "           1       0.72      0.75      0.73       485\n",
            "\n",
            "    accuracy                           0.73       999\n",
            "   macro avg       0.74      0.74      0.73       999\n",
            "weighted avg       0.74      0.73      0.73       999\n",
            "\n"
          ]
        }
      ]
    },
    {
      "cell_type": "code",
      "source": [
        "from sklearn.metrics import ConfusionMatrixDisplay,confusion_matrix\n",
        "fig,ax = plt.subplots(1,2,figsize=(10,6))\n",
        "cmxg = confusion_matrix(Y_test, pre_xgb)\n",
        "disp = ConfusionMatrixDisplay(cmxg)\n",
        "disp.plot(ax= ax[0])\n",
        "\n",
        "\n",
        "cmrf = confusion_matrix(Y_test, rf_1_pre)\n",
        "disp = ConfusionMatrixDisplay(cmrf)\n",
        "disp.plot(ax= ax[1])"
      ],
      "metadata": {
        "colab": {
          "base_uri": "https://localhost:8080/",
          "height": 374
        },
        "id": "SEyYSZTvqTcX",
        "outputId": "bccfcba5-21e1-4b03-f8df-3276e1841ab3"
      },
      "execution_count": 92,
      "outputs": [
        {
          "output_type": "execute_result",
          "data": {
            "text/plain": [
              "<sklearn.metrics._plot.confusion_matrix.ConfusionMatrixDisplay at 0x7f9a83d091c0>"
            ]
          },
          "metadata": {},
          "execution_count": 92
        },
        {
          "output_type": "display_data",
          "data": {
            "text/plain": [
              "<Figure size 720x432 with 4 Axes>"
            ],
            "image/png": "[encoded data removed]"
          },
          "metadata": {
            "needs_background": "light"
          }
        }
      ]
    },
    {
      "cell_type": "code",
      "source": [
        "from sklearn.metrics import roc_auc_score\n",
        "print(\"xgboost roc auc score:\",roc_auc_score(Y_test,xgb_prob))\n",
        "print(\"RF roc auc score:\",roc_auc_score(Y_test,rf_1_prob))"
      ],
      "metadata": {
        "colab": {
          "base_uri": "https://localhost:8080/"
        },
        "id": "KZ7ZedZ6qXmy",
        "outputId": "dc06b755-4265-46c5-8367-75a5bebf8fff"
      },
      "execution_count": 93,
      "outputs": [
        {
          "output_type": "stream",
          "name": "stdout",
          "text": [
            "xgboost roc auc score: 0.7700348991134823\n",
            "RF roc auc score: 0.7831421236311124\n"
          ]
        }
      ]
    },
    {
      "cell_type": "code",
      "source": [],
      "metadata": {
        "id": "HVw9BNBLqcNH"
      },
      "execution_count": 93,
      "outputs": []
    }
  ]
}