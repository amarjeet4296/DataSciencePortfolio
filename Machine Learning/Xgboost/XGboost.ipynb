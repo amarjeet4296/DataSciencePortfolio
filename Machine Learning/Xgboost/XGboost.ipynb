{
  "nbformat": 4,
  "nbformat_minor": 0,
  "metadata": {
    "colab": {
      "private_outputs": true,
      "provenance": []
    },
    "kernelspec": {
      "name": "python3",
      "display_name": "Python 3"
    },
    "language_info": {
      "name": "python"
    },
    "gpuClass": "standard",
    "accelerator": "GPU"
  },
  "cells": [
    {
      "cell_type": "code",
      "execution_count": null,
      "metadata": {
        "id": "x1I34dUMb2Le"
      },
      "outputs": [],
      "source": [
        "import numpy as np\n",
        "import pandas as pd\n",
        "import matplotlib.pyplot as plt\n",
        "import seaborn as sns\n",
        "!pip install --upgrade xgboost\n"
      ]
    },
    {
      "cell_type": "code",
      "source": [
        "from google.colab import drive\n",
        "drive.mount('/content/drive')"
      ],
      "metadata": {
        "id": "x1PRhbMQFcWd"
      },
      "execution_count": null,
      "outputs": []
    },
    {
      "cell_type": "code",
      "source": [
        "path = '/content/drive/MyDrive/train.csv'\n",
        "df_train = pd.read_csv(path)"
      ],
      "metadata": {
        "id": "lZ2wb-Q3F1ia"
      },
      "execution_count": null,
      "outputs": []
    },
    {
      "cell_type": "code",
      "source": [
        "# df_train = pd.read_csv(\"/content/train.csv\")"
      ],
      "metadata": {
        "id": "2TqyRAEDcP3X"
      },
      "execution_count": null,
      "outputs": []
    },
    {
      "cell_type": "code",
      "source": [
        "df_train.head()"
      ],
      "metadata": {
        "id": "mqYbBfnidUmZ"
      },
      "execution_count": null,
      "outputs": []
    },
    {
      "cell_type": "code",
      "source": [
        "df_train.duplicated().sum()"
      ],
      "metadata": {
        "id": "KDdnh7n4dXpn"
      },
      "execution_count": null,
      "outputs": []
    },
    {
      "cell_type": "code",
      "source": [
        "round(df_train.isnull().sum()/df_train.shape[0],2)"
      ],
      "metadata": {
        "id": "v5q1Cn2xnRkZ"
      },
      "execution_count": null,
      "outputs": []
    },
    {
      "cell_type": "code",
      "source": [
        "binc = [\"bin_0\",\"bin_1\",\"bin_2\",\"bin_3\",\"bin_4\"]\n",
        "nomc = [\"nom_0\",\"nom_1\",\"nom_2\",\"nom_3\",\"nom_4\",\"nom_5\",\"nom_6\",\"nom_7\",\"nom_8\",\"nom_9\"]\n",
        "ordc = [\"ord_0\",\"ord_1\",\"ord_2\",\"ord_3\",\"ord_4\",\"ord_5\"]\n",
        "datec = [\"day\",\"month\"]\n",
        "misscol = binc + ordc"
      ],
      "metadata": {
        "id": "ewn_bllrnV7Q"
      },
      "execution_count": null,
      "outputs": []
    },
    {
      "cell_type": "code",
      "source": [
        "def fill_na(data, colist):\n",
        "  if len(colist)== 10:\n",
        "    for col in colist:\n",
        "      data[col] = data[col].fillna(data[col].value_counts(normalize = True).idxmin())\n",
        "  elif len(colist) == 11:\n",
        "    for col in colist:\n",
        "      data[col] = data[col].fillna(\"Missing\")\n",
        "  else:\n",
        "    for col in colist:\n",
        "      data[col] = data[col].fillna(data[col].median())\n",
        "  return data"
      ],
      "metadata": {
        "id": "v2CLPCLDnw3X"
      },
      "execution_count": null,
      "outputs": []
    },
    {
      "cell_type": "code",
      "source": [
        "df_train = fill_na(df_train, misscol)\n",
        "df_train = fill_na(df_train, nomc)\n",
        "df_train = fill_na(df_train, datec)\n",
        "print(df_train.head())"
      ],
      "metadata": {
        "id": "_OEa9worny_H"
      },
      "execution_count": null,
      "outputs": []
    },
    {
      "cell_type": "code",
      "source": [
        "for col in binc:\n",
        "  print(\"This is {} unqiue values:\".format(col))\n",
        "  print(df_train[col].unique())\n",
        "  print(\"-\"*25)"
      ],
      "metadata": {
        "id": "0IO-GWffqbqj"
      },
      "execution_count": null,
      "outputs": []
    },
    {
      "cell_type": "code",
      "source": [
        "df_train['bin_1']"
      ],
      "metadata": {
        "id": "E79OaiInE_ra"
      },
      "execution_count": null,
      "outputs": []
    },
    {
      "cell_type": "code",
      "source": [
        "\n",
        "bin_num_ = {\"Missing\":0.0, 0.0:1.0, 1.0:2.0}\n",
        "bin_3_ = {'Missing' : 0.0, 'F': 1.0, 'T' : 2.0}\n",
        "bin_4_ = {'Missing' : 0.0, 'N': 1.0, 'Y':2.0}\n",
        "\n",
        "df_train['bin_0'] = df_train['bin_0'].map(bin_num_)\n",
        "df_train['bin_1'] = df_train['bin_1'].map(bin_num_)\n",
        "df_train['bin_2'] = df_train['bin_2'].map(bin_num_)\n",
        "df_train['bin_3'] = df_train['bin_3'].map(bin_3_)\n",
        "df_train['bin_4'] = df_train['bin_4'].map(bin_4_)"
      ],
      "metadata": {
        "id": "NVkICJFlwo7J"
      },
      "execution_count": null,
      "outputs": []
    },
    {
      "cell_type": "code",
      "source": [
        "df_train['bin_1']"
      ],
      "metadata": {
        "id": "UtsFCM2-xZw2"
      },
      "execution_count": null,
      "outputs": []
    },
    {
      "cell_type": "code",
      "source": [
        "for col in ordc:\n",
        "  print(\"This is {} unqiue values:\".format(col))\n",
        "  print(df_train[col].unique())\n",
        "  print(\"-\"*25)"
      ],
      "metadata": {
        "id": "ejTEXFMFxcxg"
      },
      "execution_count": null,
      "outputs": []
    },
    {
      "cell_type": "code",
      "source": [
        "from sklearn.preprocessing import LabelEncoder\n",
        "\n",
        "ord_0_ = {'Missing': 0.0}\n",
        "ord_1_ = {\"Missing\":0.0,\"Novice\":1.0,\"Contributor\":2.0,\"Expert\":3.0,\"Master\":4.0,\"Grandmaster\":5.0}\n",
        "ord_2_ = {\"Missing\":0.0,\"Freezing\":1.0,\"Cold\":2.0,\"Warm\":3.0,\"Hot\":4.0,\"Boiling Hot\":5.0,\"Lava Hot\":6.0}\n",
        "ord_3_ = {\"Missing\":0.0,\"a\":1.0,\"b\":2.0,\"c\":3.0,\"d\":4.0,\"e\":5.0,\"f\":6.0,\"g\":7.0,\"h\":8.0,\"i\":9.0,\"j\":10.0,\"k\":11.0,\"l\":12.0,\"m\":13.0,\"n\":14.0,\"o\":15.0}\n",
        "ord_4_ = {\"Missing\":0.0,\"A\":1.0,\"B\":2.0,\"C\":3.0,\"D\":4.0,\"E\":5.0,\"F\":6.0,\"G\":7.0,\"H\":8.0,\"I\":9.0,\"J\":10.0,\"K\":11.0,\"L\":12.0,\n",
        "         \"M\":13.0,\"N\":14.0,\"O\":15.0,\"P\":16.0,\"Q\":17.0,\"R\":18.0,\"S\":19.0,\"T\":20.0,\"U\":21.0,\"V\":22.0,\"W\":23.0,\"X\":24.0,\"Y\":25.0,\"Z\":26.0}\n"
      ],
      "metadata": {
        "id": "Ut86FN1SxubY"
      },
      "execution_count": null,
      "outputs": []
    },
    {
      "cell_type": "code",
      "source": [
        "lab = LabelEncoder()\n",
        "df_train['ord_0'] = df_train['ord_0'].replace(ord_0_)\n",
        "df_train[\"ord_1\"] = df_train[\"ord_1\"].map(ord_1_)\n",
        "\n",
        "df_train[\"ord_2\"] = df_train[\"ord_2\"].map(ord_2_)\n",
        "\n",
        "df_train[\"ord_3\"] = df_train[\"ord_3\"].map(ord_3_)\n",
        "\n",
        "\n",
        "df_train[\"ord_4\"] = df_train[\"ord_4\"].map(ord_4_)\n",
        "\n",
        "lab.fit(df_train['ord_5'].values)\n",
        "df_train['ord_5'] = lab.transform(df_train[\"ord_5\"])"
      ],
      "metadata": {
        "id": "w6tPL_dbyMZo"
      },
      "execution_count": null,
      "outputs": []
    },
    {
      "cell_type": "code",
      "source": [
        "for col in nomc:\n",
        "    print(\"This is {} unqiue values:\".format(col))\n",
        "    print(df_train[col].unique())\n",
        "    print(\"-\"*60)"
      ],
      "metadata": {
        "id": "Zq6RigIq39Z5"
      },
      "execution_count": null,
      "outputs": []
    },
    {
      "cell_type": "code",
      "source": [
        "lab1 = LabelEncoder()\n",
        "lab1.fit(df_train[\"nom_0\"])\n",
        "df_train[\"nom_0\"] = lab1.transform(df_train[\"nom_0\"])\n",
        "\n",
        "\n",
        "lab2 = LabelEncoder()\n",
        "lab2.fit(df_train[\"nom_1\"])\n",
        "df_train[\"nom_1\"] = lab2.transform(df_train[\"nom_1\"])\n",
        "\n",
        "\n",
        "lab3 = LabelEncoder()\n",
        "lab3.fit(df_train[\"nom_2\"])\n",
        "df_train[\"nom_2\"] = lab3.transform(df_train[\"nom_2\"])\n",
        "\n",
        "\n",
        "lab4 = LabelEncoder()\n",
        "lab4.fit(df_train[\"nom_3\"])\n",
        "df_train[\"nom_3\"] = lab4.transform(df_train[\"nom_3\"])\n",
        "\n",
        "lab5 = LabelEncoder()\n",
        "lab5.fit(df_train[\"nom_4\"])\n",
        "df_train[\"nom_4\"] = lab5.transform(df_train[\"nom_4\"])"
      ],
      "metadata": {
        "id": "xPHEyW044zMN"
      },
      "execution_count": null,
      "outputs": []
    },
    {
      "cell_type": "code",
      "source": [
        "import re\n",
        "df_train[\"nom_5\"] = df_train[\"nom_5\"].apply(lambda x:len(set(re.sub(r'\\D',\"\",x))) + len(set(re.sub(r'\\d',\"\",x))))\n",
        "df_train[\"nom_6\"] = df_train[\"nom_6\"].apply(lambda x:len(set(re.sub(r'\\D',\"\",x))) + len(set(re.sub(r'\\d',\"\",x))))\n",
        "df_train[\"nom_7\"] = df_train[\"nom_7\"].apply(lambda x:len(set(re.sub(r'\\D',\"\",x))) + len(set(re.sub(r'\\d',\"\",x))))\n",
        "df_train[\"nom_8\"] = df_train[\"nom_8\"].apply(lambda x:len(set(re.sub(r'\\D',\"\",x))) + len(set(re.sub(r'\\d',\"\",x))))\n",
        "df_train[\"nom_9\"] = df_train[\"nom_9\"].apply(lambda x:len(set(re.sub(r'\\D',\"\",x))) + len(set(re.sub(r'\\d',\"\",x))))"
      ],
      "metadata": {
        "id": "SriWOamv5vlb"
      },
      "execution_count": null,
      "outputs": []
    },
    {
      "cell_type": "code",
      "source": [
        "df_train.head()"
      ],
      "metadata": {
        "id": "txXublZn581R"
      },
      "execution_count": null,
      "outputs": []
    },
    {
      "cell_type": "code",
      "source": [
        "plt.figure(figsize=(30,15))\n",
        "corr = df_train.corr()\n",
        "sns.heatmap(corr,annot=True)"
      ],
      "metadata": {
        "id": "nel0x1976D3H"
      },
      "execution_count": null,
      "outputs": []
    },
    {
      "cell_type": "code",
      "source": [
        "from sklearn.ensemble import RandomForestClassifier\n",
        "target = df_train[['target']]\n",
        "feature = df_train.drop(columns = ['id', 'target'])\n",
        "\n",
        "rf = RandomForestClassifier()\n"
      ],
      "metadata": {
        "id": "tfFFqYmi8qxd"
      },
      "execution_count": null,
      "outputs": []
    },
    {
      "cell_type": "code",
      "source": [
        "target['target'].unique()"
      ],
      "metadata": {
        "id": "6Dyq4Ce2DbIn"
      },
      "execution_count": null,
      "outputs": []
    },
    {
      "cell_type": "code",
      "source": [
        "rf.fit(feature,target.values.reshape(-1,1))\n",
        "plt.figure(figsize=(15,10))\n",
        "g = sns.barplot(y=rf.feature_importances_,x=feature.columns,edgecolor=\"black\",linewidth=3,color=\"#87ceed\")\n",
        "plt.plot()"
      ],
      "metadata": {
        "id": "onrUdYQFDWlN"
      },
      "execution_count": null,
      "outputs": []
    },
    {
      "cell_type": "code",
      "source": [
        "X = df_train.drop(columns = ['target'])\n",
        "Y = df_train[['target']]"
      ],
      "metadata": {
        "id": "MYfTU0UwDSQo"
      },
      "execution_count": null,
      "outputs": []
    },
    {
      "cell_type": "code",
      "source": [
        "from sklearn.model_selection import train_test_split, cross_val_score\n",
        "X_train, X_test, Y_train, Y_test = train_test_split(X, Y, test_size=0.20)"
      ],
      "metadata": {
        "id": "0xHNePKQ2gT9"
      },
      "execution_count": null,
      "outputs": []
    },
    {
      "cell_type": "code",
      "source": [
        "import xgboost as xgb\n",
        "xgb_ = xgb.XGBClassifier(learning_rate=0.1, n_estimators=400, max_depth= 5, min_child_weight= 1, gamma = 0, subsample= 0.8, colsample_bytree= 0.8, objective = \"binary:logistic\", nthread = 4, seed = 27)\n"
      ],
      "metadata": {
        "id": "4QrDhSLC2ogL"
      },
      "execution_count": null,
      "outputs": []
    },
    {
      "cell_type": "code",
      "source": [
        "xgb_.fit(X_train, Y_train)"
      ],
      "metadata": {
        "id": "tRjzyheQ5GaO"
      },
      "execution_count": null,
      "outputs": []
    },
    {
      "cell_type": "code",
      "source": [
        "pre_xgb = xgb_.predict(X_test)\n",
        "xgb_prob = xgb_.predict_proba(X_test)[:,1]"
      ],
      "metadata": {
        "id": "uB6W21VL5TSM"
      },
      "execution_count": null,
      "outputs": []
    },
    {
      "cell_type": "code",
      "source": [
        "from sklearn.metrics import classification_report\n"
      ],
      "metadata": {
        "id": "DbTcbIjk_ZBz"
      },
      "execution_count": null,
      "outputs": []
    },
    {
      "cell_type": "code",
      "source": [
        "print(classification_report(Y_test,pre_xgb))"
      ],
      "metadata": {
        "id": "Q2Ar1JFH_m4G"
      },
      "execution_count": null,
      "outputs": []
    },
    {
      "cell_type": "code",
      "source": [
        "rf_1 = RandomForestClassifier()\n",
        "rf_1.fit(X_train, Y_train)\n",
        "rf_1_pre = rf_1.predict(X_test)\n",
        "rf_1_prob = rf_1.predict_proba(X_test)[:, 1]\n"
      ],
      "metadata": {
        "id": "11Wu8ztR_sTZ"
      },
      "execution_count": null,
      "outputs": []
    },
    {
      "cell_type": "code",
      "source": [
        "print(classification_report(Y_test, rf_1_pre))"
      ],
      "metadata": {
        "id": "PC_K40OLbl2v"
      },
      "execution_count": null,
      "outputs": []
    },
    {
      "cell_type": "code",
      "source": [
        "from sklearn.metrics import ConfusionMatrixDisplay,confusion_matrix\n",
        "fig,ax = plt.subplots(1,2,figsize=(10,6))\n",
        "cmxg = confusion_matrix(Y_test, pre_xgb)\n",
        "disp = ConfusionMatrixDisplay(cmxg)\n",
        "disp.plot(ax= ax[0])\n",
        "\n",
        "\n",
        "cmrf = confusion_matrix(Y_test, rf_1_pre)\n",
        "disp = ConfusionMatrixDisplay(cmrf)\n",
        "disp.plot(ax= ax[1])"
      ],
      "metadata": {
        "id": "dOB6hkznc_-F"
      },
      "execution_count": null,
      "outputs": []
    },
    {
      "cell_type": "code",
      "source": [
        "from sklearn.metrics import roc_auc_score\n",
        "print(\"xgboost roc auc score:\",roc_auc_score(Y_test,xgb_prob))\n",
        "print(\"RF roc auc score:\",roc_auc_score(Y_test,rf_1_prob))"
      ],
      "metadata": {
        "id": "EjgvT-79hOSE"
      },
      "execution_count": null,
      "outputs": []
    },
    {
      "cell_type": "code",
      "source": [
        "# from mlxtend.classifier import StackingClassifier\n",
        "!pip install mlxtend"
      ],
      "metadata": {
        "id": "IHoG_khAiLA2"
      },
      "execution_count": null,
      "outputs": []
    },
    {
      "cell_type": "code",
      "source": [
        "# from mlxtend.ensemble import StackingCVClassifier\n",
        "\n",
        "from mlxtend.plotting import plot_decision_regions\n",
        "from sklearn.ensemble import RandomForestClassifier, StackingClassifier\n",
        "from sklearn.linear_model import LogisticRegression"
      ],
      "metadata": {
        "id": "ylxxjXzQkJzz"
      },
      "execution_count": null,
      "outputs": []
    },
    {
      "cell_type": "code",
      "source": [
        "from xgboost.sklearn import XGBClassifier\n",
        "LR = LogisticRegression()\n",
        "\n",
        "\n",
        "base_learners = [\n",
        "                 ('rf_1', RandomForestClassifier()),\n",
        "                 ('xgb', XGBClassifier())             \n",
        "                ]\n",
        "\n",
        "stack_1 = StackingClassifier(estimators=base_learners,final_estimator=LR)\n",
        "# clf = StackingClassifier(estimators=base_learners,\n",
        "#                          final_estimator=LogisticRegression(),  \n",
        "#                          cv=10)"
      ],
      "metadata": {
        "id": "3VWP4XwDkWLE"
      },
      "execution_count": null,
      "outputs": []
    },
    {
      "cell_type": "code",
      "source": [
        "stack_1.fit(X_train,Y_train)"
      ],
      "metadata": {
        "id": "W-q6TNyLmu6t"
      },
      "execution_count": null,
      "outputs": []
    },
    {
      "cell_type": "code",
      "source": [
        "stack_pre = stack_1.predict(X_test)\n",
        "stack_prob = stack_1.predict_proba(X_test)[:,1]"
      ],
      "metadata": {
        "id": "em8YSm_sn7_7"
      },
      "execution_count": null,
      "outputs": []
    },
    {
      "cell_type": "code",
      "source": [
        "print(classification_report(Y_test,stack_pre))"
      ],
      "metadata": {
        "id": "WdGI1mz17PJl"
      },
      "execution_count": null,
      "outputs": []
    },
    {
      "cell_type": "code",
      "source": [
        "from sklearn.metrics import ConfusionMatrixDisplay,confusion_matrix\n",
        "fig,ax = plt.subplots(1,2,figsize=(16,6))\n",
        "\n",
        "\n",
        "cmxg = confusion_matrix(Y_test,pre_xgb)  #xgboost\n",
        "disp = ConfusionMatrixDisplay(cmxg)\n",
        "disp.plot(ax=ax[0])\n",
        "\n",
        "\n",
        "cm = confusion_matrix(Y_test,rf_1_pre)  #RF\n",
        "dis = ConfusionMatrixDisplay(cm)\n",
        "dis.plot(ax=ax[1])\n",
        "plt.show()\n",
        "\n",
        "\n",
        "scm = confusion_matrix(Y_test,stack_pre)  #stack\n",
        "distack = ConfusionMatrixDisplay(scm)\n",
        "distack.plot()"
      ],
      "metadata": {
        "id": "zBtU9pEX7Z5j"
      },
      "execution_count": null,
      "outputs": []
    },
    {
      "cell_type": "code",
      "source": [
        "print(\"stack roc auc score:\",roc_auc_score(Y_test,stack_prob))"
      ],
      "metadata": {
        "id": "Jwh6eLok7j6-"
      },
      "execution_count": null,
      "outputs": []
    },
    {
      "cell_type": "code",
      "source": [
        "ids = df_train[[\"id\"]]\n",
        "test_data = df_train.drop(columns=[\"id\"])\n",
        "submisson_pre = stack_1.predict(test_data.values)\n",
        "sub = pd.DataFrame()\n",
        "sub[\"id\"] = ids\n",
        "sub[\"target\"] = submisson_pre\n",
        "sub.head()"
      ],
      "metadata": {
        "id": "Bxqtcz417tK2"
      },
      "execution_count": null,
      "outputs": []
    },
    {
      "cell_type": "code",
      "source": [
        "sub.to_csv(\"submission.csv\",index=None)"
      ],
      "metadata": {
        "id": "Q7M2Q71n75ws"
      },
      "execution_count": null,
      "outputs": []
    },
    {
      "cell_type": "code",
      "source": [],
      "metadata": {
        "id": "4nxdYirS8DYe"
      },
      "execution_count": null,
      "outputs": []
    }
  ]
}