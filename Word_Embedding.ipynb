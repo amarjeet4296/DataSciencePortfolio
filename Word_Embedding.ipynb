{
  "nbformat": 4,
  "nbformat_minor": 0,
  "metadata": {
    "colab": {
      "provenance": [],
      "authorship_tag": "ABX9TyPSy0jIdi7ePF2ytZruSy7w",
      "include_colab_link": true
    },
    "kernelspec": {
      "name": "python3",
      "display_name": "Python 3"
    },
    "language_info": {
      "name": "python"
    }
  },
  "cells": [
    {
      "cell_type": "markdown",
      "metadata": {
        "id": "view-in-github",
        "colab_type": "text"
      },
      "source": [
        "<a href=\"https://colab.research.google.com/github/amarjeet4296/DataSciencePortfolio/blob/main/Word_Embedding.ipynb\" target=\"_parent\"><img src=\"https://colab.research.google.com/assets/colab-badge.svg\" alt=\"Open In Colab\"/></a>"
      ]
    },
    {
      "cell_type": "code",
      "execution_count": 3,
      "metadata": {
        "id": "8QmYR464KHvx"
      },
      "outputs": [],
      "source": [
        "# Slower but always guaranteed to work\n",
        "# !wget -nc https://lazyprogrammer.me/course_files/nlp/GoogleNews-vectors-negative300.bin.gz\n",
        "# You are better off just downloading this from the source\n",
        "# https://drive.google.com/file/d/0B7XkCwpI5KDYNlNUTTlSS21pQmM/edit?usp=sharing\n",
        "# https://code.google.com/archive/p/word2vec/\n",
        "# !gdown https://drive.google.com/uc?id=0B7XkCwpI5KDYNlNUTTlSS21pQmM\n",
        "\n"
      ]
    },
    {
      "cell_type": "code",
      "source": [
        "pip install gensim"
      ],
      "metadata": {
        "colab": {
          "base_uri": "https://localhost:8080/"
        },
        "id": "O5DFn8W-NfDT",
        "outputId": "75b403a7-a5b0-4cda-b8b1-a1133d58e618"
      },
      "execution_count": 10,
      "outputs": [
        {
          "output_type": "stream",
          "name": "stdout",
          "text": [
            "Looking in indexes: https://pypi.org/simple, https://us-python.pkg.dev/colab-wheels/public/simple/\n",
            "Requirement already satisfied: gensim in /usr/local/lib/python3.7/dist-packages (3.6.0)\n",
            "Requirement already satisfied: six>=1.5.0 in /usr/local/lib/python3.7/dist-packages (from gensim) (1.15.0)\n",
            "Requirement already satisfied: scipy>=0.18.1 in /usr/local/lib/python3.7/dist-packages (from gensim) (1.7.3)\n",
            "Requirement already satisfied: smart-open>=1.2.1 in /usr/local/lib/python3.7/dist-packages (from gensim) (5.2.1)\n",
            "Requirement already satisfied: numpy>=1.11.3 in /usr/local/lib/python3.7/dist-packages (from gensim) (1.21.6)\n"
          ]
        }
      ]
    },
    {
      "cell_type": "code",
      "source": [
        "import gdown\n",
        "import gensim "
      ],
      "metadata": {
        "id": "T4MykPWkKuyX"
      },
      "execution_count": 11,
      "outputs": []
    },
    {
      "cell_type": "code",
      "source": [
        "!gdown https://drive.google.com/uc?id=0B7XkCwpI5KDYNlNUTTlSS21pQmM"
      ],
      "metadata": {
        "colab": {
          "base_uri": "https://localhost:8080/"
        },
        "id": "UMecqG9mLhgB",
        "outputId": "2a1bcf2b-5e2f-4413-a7c3-dfa89fcfea8d"
      },
      "execution_count": 12,
      "outputs": [
        {
          "output_type": "stream",
          "name": "stdout",
          "text": [
            "Downloading...\n",
            "From: https://drive.google.com/uc?id=0B7XkCwpI5KDYNlNUTTlSS21pQmM\n",
            "To: /content/GoogleNews-vectors-negative300.bin.gz\n",
            "100% 1.65G/1.65G [00:08<00:00, 189MB/s]\n"
          ]
        }
      ]
    },
    {
      "cell_type": "code",
      "source": [
        "!gunzip GoogleNews-vectors-negative300.bin.gz"
      ],
      "metadata": {
        "colab": {
          "base_uri": "https://localhost:8080/"
        },
        "id": "S1YP_fv-Ljy2",
        "outputId": "38866db6-5f04-40a3-f1c7-39c17dbe6d29"
      },
      "execution_count": 13,
      "outputs": [
        {
          "output_type": "stream",
          "name": "stdout",
          "text": [
            "gzip: GoogleNews-vectors-negative300.bin already exists; do you wish to overwrite (y or n)? y\n",
            "y\n",
            "n\n"
          ]
        }
      ]
    },
    {
      "cell_type": "code",
      "source": [
        "from gensim.models import KeyedVectors"
      ],
      "metadata": {
        "id": "bwhB_dCQMnnB"
      },
      "execution_count": 15,
      "outputs": []
    },
    {
      "cell_type": "code",
      "source": [
        "word_vectors = KeyedVectors.load_word2vec_format('GoogleNews-vectors-negative300.bin', binary = True)"
      ],
      "metadata": {
        "id": "kKJUcMgTM5rg"
      },
      "execution_count": 16,
      "outputs": []
    },
    {
      "cell_type": "code",
      "source": [
        "def find_analogies(w1, w2, w3):\n",
        "  # w1 - w2 = ? - w3\n",
        "  # e.g. king - man = ? - woman\n",
        "  # ? = king + woman - man\n",
        "  r = word_vectors.most_similar(positive = [w1,w3], negative = [w2])\n",
        "  print(\"%s - %s = %s - %s\" % (w1, w2, r[0][0], w3))"
      ],
      "metadata": {
        "id": "JIHDBUrAOPMC"
      },
      "execution_count": 23,
      "outputs": []
    },
    {
      "cell_type": "code",
      "source": [
        "find_analogies('king', 'man', 'woman')"
      ],
      "metadata": {
        "colab": {
          "base_uri": "https://localhost:8080/"
        },
        "id": "9wzIFc8PPhTa",
        "outputId": "3dc07b38-9a9c-4185-c8a0-17a868a07e1b"
      },
      "execution_count": 24,
      "outputs": [
        {
          "output_type": "stream",
          "name": "stdout",
          "text": [
            "king - man = queen - woman\n"
          ]
        }
      ]
    },
    {
      "cell_type": "code",
      "source": [
        "find_analogies('france', 'paris', 'london')"
      ],
      "metadata": {
        "colab": {
          "base_uri": "https://localhost:8080/"
        },
        "id": "MYwrQAMqPpYc",
        "outputId": "9a24aa27-2456-4595-b52b-918d309547a1"
      },
      "execution_count": 25,
      "outputs": [
        {
          "output_type": "stream",
          "name": "stdout",
          "text": [
            "france - paris = england - london\n"
          ]
        }
      ]
    },
    {
      "cell_type": "code",
      "source": [
        "find_analogies('japan', 'japanese', 'chinese')"
      ],
      "metadata": {
        "colab": {
          "base_uri": "https://localhost:8080/"
        },
        "id": "6nDsCquqQMhK",
        "outputId": "3c652682-d773-4b1f-ddf7-a088045a057c"
      },
      "execution_count": 26,
      "outputs": [
        {
          "output_type": "stream",
          "name": "stdout",
          "text": [
            "japan - japanese = tibet - chinese\n"
          ]
        }
      ]
    },
    {
      "cell_type": "code",
      "source": [
        "find_analogies('france', 'french', 'english')"
      ],
      "metadata": {
        "colab": {
          "base_uri": "https://localhost:8080/"
        },
        "id": "BSNpMsseQVYn",
        "outputId": "1f311073-20df-412a-e379-237de1ac2571"
      },
      "execution_count": 27,
      "outputs": [
        {
          "output_type": "stream",
          "name": "stdout",
          "text": [
            "france - french = england - english\n"
          ]
        }
      ]
    },
    {
      "cell_type": "code",
      "source": [
        "find_analogies('french', 'france', 'India')"
      ],
      "metadata": {
        "colab": {
          "base_uri": "https://localhost:8080/"
        },
        "id": "_W7TJxAWQhpu",
        "outputId": "e27a7d83-2ab0-49fe-aa91-fb8a65d682be"
      },
      "execution_count": 34,
      "outputs": [
        {
          "output_type": "stream",
          "name": "stdout",
          "text": [
            "french - france = Indian - India\n"
          ]
        }
      ]
    },
    {
      "cell_type": "code",
      "source": [
        "def nearest_neighbors(w):\n",
        "  r = word_vectors.most_similar(positive = [w])\n",
        "  print(\"neighbors of: %s\" % w)\n",
        "  for word, score in r:\n",
        "    print(\"\\t%s\" % word)"
      ],
      "metadata": {
        "id": "EmpAe23UQnML"
      },
      "execution_count": 35,
      "outputs": []
    },
    {
      "cell_type": "code",
      "source": [
        "nearest_neighbors('king')"
      ],
      "metadata": {
        "colab": {
          "base_uri": "https://localhost:8080/"
        },
        "id": "qJb9QeJ9UQYf",
        "outputId": "1d146307-661f-4b61-b76c-5c2af7878b03"
      },
      "execution_count": 36,
      "outputs": [
        {
          "output_type": "stream",
          "name": "stdout",
          "text": [
            "neighbors of: king\n",
            "\tkings\n",
            "\tqueen\n",
            "\tmonarch\n",
            "\tcrown_prince\n",
            "\tprince\n",
            "\tsultan\n",
            "\truler\n",
            "\tprinces\n",
            "\tPrince_Paras\n",
            "\tthrone\n"
          ]
        }
      ]
    },
    {
      "cell_type": "code",
      "source": [
        "nearest_neighbors('france')"
      ],
      "metadata": {
        "colab": {
          "base_uri": "https://localhost:8080/"
        },
        "id": "P7b57_ihUaGG",
        "outputId": "a568d00b-0c0d-40bc-ad4d-93df9fa998b7"
      },
      "execution_count": 37,
      "outputs": [
        {
          "output_type": "stream",
          "name": "stdout",
          "text": [
            "neighbors of: france\n",
            "\tspain\n",
            "\tfrench\n",
            "\tgermany\n",
            "\teurope\n",
            "\titaly\n",
            "\tengland\n",
            "\teuropean\n",
            "\tbelgium\n",
            "\tusa\n",
            "\tserbia\n"
          ]
        }
      ]
    },
    {
      "cell_type": "code",
      "source": [
        "nearest_neighbors('einstein')"
      ],
      "metadata": {
        "colab": {
          "base_uri": "https://localhost:8080/"
        },
        "id": "XNNvW-oFU7_J",
        "outputId": "76eca720-ffa8-46d0-d5ae-bd69cc7a5de6"
      },
      "execution_count": 38,
      "outputs": [
        {
          "output_type": "stream",
          "name": "stdout",
          "text": [
            "neighbors of: einstein\n",
            "\tnikki\n",
            "\tlmfao\n",
            "\talbert\n",
            "\tarmstrong\n",
            "\tjoan\n",
            "\tbecky\n",
            "\tmcmahon\n",
            "\tconrad\n",
            "\tlori\n",
            "\thaley\n"
          ]
        }
      ]
    },
    {
      "cell_type": "code",
      "source": [
        "# Exercise: download pretrained Gloe vectors from \n",
        "# https://nlp.stanford.edu/projects/glove/\n",
        "#\n",
        "# Implement your own finding_analogies() and nearest_neighbors()"
      ],
      "metadata": {
        "id": "fsLEGCInXtnM"
      },
      "execution_count": 39,
      "outputs": []
    },
    {
      "cell_type": "code",
      "source": [],
      "metadata": {
        "id": "q4pjaZtTYiG2"
      },
      "execution_count": null,
      "outputs": []
    }
  ]
}