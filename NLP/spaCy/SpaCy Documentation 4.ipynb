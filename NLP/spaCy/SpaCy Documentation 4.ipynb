{
 "cells": [
  {
   "cell_type": "markdown",
   "id": "15037392",
   "metadata": {},
   "source": [
    "# SpaCy"
   ]
  },
  {
   "cell_type": "code",
   "execution_count": 2,
   "id": "af24c56c",
   "metadata": {},
   "outputs": [
    {
     "data": {
      "text/plain": [
       "<spacy.lang.en.English at 0x25a84623cd0>"
      ]
     },
     "execution_count": 2,
     "metadata": {},
     "output_type": "execute_result"
    }
   ],
   "source": [
    "import spacy\n",
    "nlp = spacy.load('en_core_web_sm')\n",
    "nlp"
   ]
  },
  {
   "cell_type": "markdown",
   "id": "d1b76bc3",
   "metadata": {},
   "source": [
    "## Detecting Email Address\n",
    "\n",
    "Consider you've a text document about details of various employees.\n",
    "\n",
    "What if you want the emails of employees to send a common email?\n",
    "\n",
    "You can tokenize the document and check which tokens are emails through **like_email** attribute **like_email** returns **True** if the token is a email"
   ]
  },
  {
   "cell_type": "code",
   "execution_count": 3,
   "id": "1ff238e0",
   "metadata": {},
   "outputs": [],
   "source": [
    "# Text containing employee details \n",
    "\n",
    "employees_text = \"\"\" name: Karthik age: 45 email: karthik45@gmail.com\n",
    "                     name: dinesh age: 40 email: dinesh40@gmail.com\n",
    "                     name: Ganesh age: 67 email: ganeshan67@gmail.com\n",
    "                     name: Kamlesh age: 27 email: kamlesh27@gmail.com\n",
    "                     name: Kaushal age: 28 email: kaushal28@gmail.com\n",
    "                     name: Vikram age: 45 email: Vikram45@gmail.com\n",
    "                     name: Venkat age: 45 email: Venkat45@gmail.com\"\"\"\n",
    "\n",
    "# Creating a spacy doc\n",
    "employees_doc = nlp(employees_text)"
   ]
  },
  {
   "cell_type": "code",
   "execution_count": 6,
   "id": "998b4dfe",
   "metadata": {},
   "outputs": [
    {
     "name": "stdout",
     "output_type": "stream",
     "text": [
      "karthik45@gmail.com\n",
      "dinesh40@gmail.com\n",
      "ganeshan67@gmail.com\n",
      "kamlesh27@gmail.com\n",
      "kaushal28@gmail.com\n",
      "Vikram45@gmail.com\n",
      "Venkat45@gmail.com\n"
     ]
    }
   ],
   "source": [
    "# Printing the token which are email through like_email attribute\n",
    "\n",
    "for token in employees_doc:\n",
    "    if token.like_email:\n",
    "        print(token.text)"
   ]
  },
  {
   "cell_type": "markdown",
   "id": "187e21cd",
   "metadata": {},
   "source": [
    "Likewise, spacy provides a variety of token attributes. Below is a list of those attributes and the function they perform\n",
    "\n",
    "(-) token.is_alpha: Returns **True** if the token is an alphabet\n",
    "\n",
    "(-) token.is_ascii: Returns **True** if the token belongs to ascii characters\n",
    "\n",
    "(-) token.is_digit: Returns **True** if the token is a number(0-9)\n",
    "\n",
    "(-) token.is_upper: Returns **True** if the token is upper case alphabet\n",
    "\n",
    "(-) token.is_lower: Returns **True** if the token is lower case alphabet\n",
    "\n",
    "(-) token.is_space: Returns **True** if the token is a space\n",
    "\n",
    "(-) token.is_bracket: Returns **True** if the token is a bracket\n",
    "\n",
    "(-) token.is_quote: Returns **True** if the token is a quotation mark\n",
    "\n",
    "(-) token.like_url: Returns **True** if the token is similar to a URL (link to website)"
   ]
  },
  {
   "cell_type": "markdown",
   "id": "c09beb9e",
   "metadata": {},
   "source": [
    "## Part of Speech analysis with spaCy\n",
    "\n",
    "Consider a sentence, **\"Emily like playing football\"**\n",
    "\n",
    "Here, Emily is a NOUN, and playing is a VERB. Likewise, each word of a text is either a noun, pronoun, verb, conjection etc. These tags are called as Part of Speech tags(POS).\n",
    "\n",
    "How to identify the part of speech of the words in a text document?\n",
    "\n",
    "It is present in the **pos_** attribute."
   ]
  },
  {
   "cell_type": "code",
   "execution_count": 7,
   "id": "06964efe",
   "metadata": {},
   "outputs": [
    {
     "name": "stdout",
     "output_type": "stream",
     "text": [
      "John ------ PROPN\n",
      "plays ------ VERB\n",
      "basketball ------ NOUN\n",
      ", ------ PUNCT\n",
      "if ------ SCONJ\n",
      "time ------ NOUN\n",
      "permit ------ VERB\n",
      ". ------ PUNCT\n",
      "He ------ PRON\n",
      "played ------ VERB\n",
      "in ------ ADP\n",
      "the ------ DET\n",
      "high ------ ADJ\n",
      "school ------ NOUN\n",
      "too ------ ADV\n",
      ". ------ PUNCT\n"
     ]
    }
   ],
   "source": [
    "# POS tagging using spaCy\n",
    "\n",
    "my_text = \"John plays basketball, if time permit. He played in the high school too.\"\n",
    "\n",
    "my_doc = nlp(my_text)\n",
    "\n",
    "for token in my_doc:\n",
    "    print(token.text, \"------\", token.pos_)"
   ]
  },
  {
   "cell_type": "markdown",
   "id": "d98bb8a7",
   "metadata": {},
   "source": [
    "You can see the POS tag against each word like VERB, ADJ etc.\n",
    "\n",
    "What if you don't know what the tag SCONJ means?\n",
    "\n",
    "Using **spacy.explain()** function, you can know the explanation or full-form in this case."
   ]
  },
  {
   "cell_type": "code",
   "execution_count": 11,
   "id": "808b6df3",
   "metadata": {},
   "outputs": [
    {
     "data": {
      "text/plain": [
       "'adposition'"
      ]
     },
     "execution_count": 11,
     "metadata": {},
     "output_type": "execute_result"
    }
   ],
   "source": [
    "#spacy.explain('SCONJ')\n",
    "spacy.explain('ADP')"
   ]
  },
  {
   "cell_type": "markdown",
   "id": "8f2cbe19",
   "metadata": {},
   "source": [
    "## POS tagging helps you in dealing with text based problems\n",
    "\n",
    "Consider you have a text document of reviews or comments on a post. Apart from genuine words, there will be certain junk like \"etc\" which do not mean anything. How can you remove them?\n",
    "\n",
    "Using spacy's **pos_** attribute, you can check if a particular token is junk through **token.pos_ ==  'X'** and remove them. "
   ]
  },
  {
   "cell_type": "code",
   "execution_count": 12,
   "id": "e8b4f1da",
   "metadata": {},
   "outputs": [
    {
     "name": "stdout",
     "output_type": "stream",
     "text": [
      "The junk values are ..\n",
      "etc\n",
      "etc\n",
      "etc\n",
      "After removing junk\n",
      "[I, liked, the, movies, The, movie, had, good, direction, The, movie, The, movie, was, average, direction, was, not, bad, The, cinematography, The, movie, was, a, bit, lengthy, otherwise, fantastic]\n"
     ]
    }
   ],
   "source": [
    "# Raw text document\n",
    "\n",
    "raw_text = \"\"\"I liked the movies etc The movie had good direction The movie The movie was average direction was not bad The cinematography The movie was a bit lengthy otherwise fantastic etc etc\"\"\"\n",
    "\n",
    "raw_doc = nlp(raw_text)\n",
    "\n",
    "#Check if POS tag is X and printing\n",
    "print('The junk values are ..')\n",
    "\n",
    "for token in raw_doc:\n",
    "    if token.pos_ == 'X':\n",
    "        print(token.text)\n",
    "        \n",
    "print('After removing junk')\n",
    "\n",
    "# Removing the tokens whose POS tag is junk\n",
    "\n",
    "clean_doc = [token for token in raw_doc if not token.pos_ == 'X']\n",
    "print(clean_doc)"
   ]
  },
  {
   "cell_type": "markdown",
   "id": "1f28c92d",
   "metadata": {},
   "source": [
    "**You can also know what types of token are present in your text by creating a dictionary**"
   ]
  },
  {
   "cell_type": "code",
   "execution_count": 13,
   "id": "90571d15",
   "metadata": {},
   "outputs": [
    {
     "name": "stdout",
     "output_type": "stream",
     "text": [
      "{95: 'PRON', 100: 'VERB', 90: 'DET', 92: 'NOUN', 101: 'X', 84: 'ADJ', 87: 'AUX', 94: 'PART', 86: 'ADV'}\n"
     ]
    }
   ],
   "source": [
    "#Creating a dictionary with parts of speech &amp; corresponding token numbers.\n",
    "\n",
    "all_tags = {token.pos:token.pos_ for token in raw_doc}\n",
    "print(all_tags)"
   ]
  },
  {
   "cell_type": "code",
   "execution_count": 14,
   "id": "be163920",
   "metadata": {},
   "outputs": [
    {
     "data": {
      "text/html": [
       "<span class=\"tex2jax_ignore\"><svg xmlns=\"http://www.w3.org/2000/svg\" xmlns:xlink=\"http://www.w3.org/1999/xlink\" xml:lang=\"en\" id=\"214b2a5710ae4abcbf951535b14372de-0\" class=\"displacy\" width=\"1450\" height=\"399.5\" direction=\"ltr\" style=\"max-width: none; height: 399.5px; color: #000000; background: #ffffff; font-family: Arial; direction: ltr\">\n",
       "<text class=\"displacy-token\" fill=\"currentColor\" text-anchor=\"middle\" y=\"309.5\">\n",
       "    <tspan class=\"displacy-word\" fill=\"currentColor\" x=\"50\">She</tspan>\n",
       "    <tspan class=\"displacy-tag\" dy=\"2em\" fill=\"currentColor\" x=\"50\">PRON</tspan>\n",
       "</text>\n",
       "\n",
       "<text class=\"displacy-token\" fill=\"currentColor\" text-anchor=\"middle\" y=\"309.5\">\n",
       "    <tspan class=\"displacy-word\" fill=\"currentColor\" x=\"225\">never</tspan>\n",
       "    <tspan class=\"displacy-tag\" dy=\"2em\" fill=\"currentColor\" x=\"225\">ADV</tspan>\n",
       "</text>\n",
       "\n",
       "<text class=\"displacy-token\" fill=\"currentColor\" text-anchor=\"middle\" y=\"309.5\">\n",
       "    <tspan class=\"displacy-word\" fill=\"currentColor\" x=\"400\">like</tspan>\n",
       "    <tspan class=\"displacy-tag\" dy=\"2em\" fill=\"currentColor\" x=\"400\">VERB</tspan>\n",
       "</text>\n",
       "\n",
       "<text class=\"displacy-token\" fill=\"currentColor\" text-anchor=\"middle\" y=\"309.5\">\n",
       "    <tspan class=\"displacy-word\" fill=\"currentColor\" x=\"575\">playing,</tspan>\n",
       "    <tspan class=\"displacy-tag\" dy=\"2em\" fill=\"currentColor\" x=\"575\">VERB</tspan>\n",
       "</text>\n",
       "\n",
       "<text class=\"displacy-token\" fill=\"currentColor\" text-anchor=\"middle\" y=\"309.5\">\n",
       "    <tspan class=\"displacy-word\" fill=\"currentColor\" x=\"750\">reading</tspan>\n",
       "    <tspan class=\"displacy-tag\" dy=\"2em\" fill=\"currentColor\" x=\"750\">VERB</tspan>\n",
       "</text>\n",
       "\n",
       "<text class=\"displacy-token\" fill=\"currentColor\" text-anchor=\"middle\" y=\"309.5\">\n",
       "    <tspan class=\"displacy-word\" fill=\"currentColor\" x=\"925\">was</tspan>\n",
       "    <tspan class=\"displacy-tag\" dy=\"2em\" fill=\"currentColor\" x=\"925\">AUX</tspan>\n",
       "</text>\n",
       "\n",
       "<text class=\"displacy-token\" fill=\"currentColor\" text-anchor=\"middle\" y=\"309.5\">\n",
       "    <tspan class=\"displacy-word\" fill=\"currentColor\" x=\"1100\">her</tspan>\n",
       "    <tspan class=\"displacy-tag\" dy=\"2em\" fill=\"currentColor\" x=\"1100\">PRON</tspan>\n",
       "</text>\n",
       "\n",
       "<text class=\"displacy-token\" fill=\"currentColor\" text-anchor=\"middle\" y=\"309.5\">\n",
       "    <tspan class=\"displacy-word\" fill=\"currentColor\" x=\"1275\">hobby</tspan>\n",
       "    <tspan class=\"displacy-tag\" dy=\"2em\" fill=\"currentColor\" x=\"1275\">ADJ</tspan>\n",
       "</text>\n",
       "\n",
       "<g class=\"displacy-arrow\">\n",
       "    <path class=\"displacy-arc\" id=\"arrow-214b2a5710ae4abcbf951535b14372de-0-0\" stroke-width=\"2px\" d=\"M70,264.5 C70,89.5 395.0,89.5 395.0,264.5\" fill=\"none\" stroke=\"currentColor\"/>\n",
       "    <text dy=\"1.25em\" style=\"font-size: 0.8em; letter-spacing: 1px\">\n",
       "        <textPath xlink:href=\"#arrow-214b2a5710ae4abcbf951535b14372de-0-0\" class=\"displacy-label\" startOffset=\"50%\" side=\"left\" fill=\"currentColor\" text-anchor=\"middle\">nsubj</textPath>\n",
       "    </text>\n",
       "    <path class=\"displacy-arrowhead\" d=\"M70,266.5 L62,254.5 78,254.5\" fill=\"currentColor\"/>\n",
       "</g>\n",
       "\n",
       "<g class=\"displacy-arrow\">\n",
       "    <path class=\"displacy-arc\" id=\"arrow-214b2a5710ae4abcbf951535b14372de-0-1\" stroke-width=\"2px\" d=\"M245,264.5 C245,177.0 390.0,177.0 390.0,264.5\" fill=\"none\" stroke=\"currentColor\"/>\n",
       "    <text dy=\"1.25em\" style=\"font-size: 0.8em; letter-spacing: 1px\">\n",
       "        <textPath xlink:href=\"#arrow-214b2a5710ae4abcbf951535b14372de-0-1\" class=\"displacy-label\" startOffset=\"50%\" side=\"left\" fill=\"currentColor\" text-anchor=\"middle\">neg</textPath>\n",
       "    </text>\n",
       "    <path class=\"displacy-arrowhead\" d=\"M245,266.5 L237,254.5 253,254.5\" fill=\"currentColor\"/>\n",
       "</g>\n",
       "\n",
       "<g class=\"displacy-arrow\">\n",
       "    <path class=\"displacy-arc\" id=\"arrow-214b2a5710ae4abcbf951535b14372de-0-2\" stroke-width=\"2px\" d=\"M420,264.5 C420,2.0 925.0,2.0 925.0,264.5\" fill=\"none\" stroke=\"currentColor\"/>\n",
       "    <text dy=\"1.25em\" style=\"font-size: 0.8em; letter-spacing: 1px\">\n",
       "        <textPath xlink:href=\"#arrow-214b2a5710ae4abcbf951535b14372de-0-2\" class=\"displacy-label\" startOffset=\"50%\" side=\"left\" fill=\"currentColor\" text-anchor=\"middle\">ccomp</textPath>\n",
       "    </text>\n",
       "    <path class=\"displacy-arrowhead\" d=\"M420,266.5 L412,254.5 428,254.5\" fill=\"currentColor\"/>\n",
       "</g>\n",
       "\n",
       "<g class=\"displacy-arrow\">\n",
       "    <path class=\"displacy-arc\" id=\"arrow-214b2a5710ae4abcbf951535b14372de-0-3\" stroke-width=\"2px\" d=\"M420,264.5 C420,177.0 565.0,177.0 565.0,264.5\" fill=\"none\" stroke=\"currentColor\"/>\n",
       "    <text dy=\"1.25em\" style=\"font-size: 0.8em; letter-spacing: 1px\">\n",
       "        <textPath xlink:href=\"#arrow-214b2a5710ae4abcbf951535b14372de-0-3\" class=\"displacy-label\" startOffset=\"50%\" side=\"left\" fill=\"currentColor\" text-anchor=\"middle\">xcomp</textPath>\n",
       "    </text>\n",
       "    <path class=\"displacy-arrowhead\" d=\"M565.0,266.5 L573.0,254.5 557.0,254.5\" fill=\"currentColor\"/>\n",
       "</g>\n",
       "\n",
       "<g class=\"displacy-arrow\">\n",
       "    <path class=\"displacy-arc\" id=\"arrow-214b2a5710ae4abcbf951535b14372de-0-4\" stroke-width=\"2px\" d=\"M770,264.5 C770,177.0 915.0,177.0 915.0,264.5\" fill=\"none\" stroke=\"currentColor\"/>\n",
       "    <text dy=\"1.25em\" style=\"font-size: 0.8em; letter-spacing: 1px\">\n",
       "        <textPath xlink:href=\"#arrow-214b2a5710ae4abcbf951535b14372de-0-4\" class=\"displacy-label\" startOffset=\"50%\" side=\"left\" fill=\"currentColor\" text-anchor=\"middle\">csubj</textPath>\n",
       "    </text>\n",
       "    <path class=\"displacy-arrowhead\" d=\"M770,266.5 L762,254.5 778,254.5\" fill=\"currentColor\"/>\n",
       "</g>\n",
       "\n",
       "<g class=\"displacy-arrow\">\n",
       "    <path class=\"displacy-arc\" id=\"arrow-214b2a5710ae4abcbf951535b14372de-0-5\" stroke-width=\"2px\" d=\"M1120,264.5 C1120,177.0 1265.0,177.0 1265.0,264.5\" fill=\"none\" stroke=\"currentColor\"/>\n",
       "    <text dy=\"1.25em\" style=\"font-size: 0.8em; letter-spacing: 1px\">\n",
       "        <textPath xlink:href=\"#arrow-214b2a5710ae4abcbf951535b14372de-0-5\" class=\"displacy-label\" startOffset=\"50%\" side=\"left\" fill=\"currentColor\" text-anchor=\"middle\">poss</textPath>\n",
       "    </text>\n",
       "    <path class=\"displacy-arrowhead\" d=\"M1120,266.5 L1112,254.5 1128,254.5\" fill=\"currentColor\"/>\n",
       "</g>\n",
       "\n",
       "<g class=\"displacy-arrow\">\n",
       "    <path class=\"displacy-arc\" id=\"arrow-214b2a5710ae4abcbf951535b14372de-0-6\" stroke-width=\"2px\" d=\"M945,264.5 C945,89.5 1270.0,89.5 1270.0,264.5\" fill=\"none\" stroke=\"currentColor\"/>\n",
       "    <text dy=\"1.25em\" style=\"font-size: 0.8em; letter-spacing: 1px\">\n",
       "        <textPath xlink:href=\"#arrow-214b2a5710ae4abcbf951535b14372de-0-6\" class=\"displacy-label\" startOffset=\"50%\" side=\"left\" fill=\"currentColor\" text-anchor=\"middle\">attr</textPath>\n",
       "    </text>\n",
       "    <path class=\"displacy-arrowhead\" d=\"M1270.0,266.5 L1278.0,254.5 1262.0,254.5\" fill=\"currentColor\"/>\n",
       "</g>\n",
       "</svg></span>"
      ],
      "text/plain": [
       "<IPython.core.display.HTML object>"
      ]
     },
     "metadata": {},
     "output_type": "display_data"
    }
   ],
   "source": [
    "# Importing displacy\n",
    "from spacy import displacy\n",
    "my_text = \"She never like playing, reading was her hobby\"\n",
    "my_doc = nlp(my_text)\n",
    "\n",
    "# Displaying token with their POS tags\n",
    "displacy.render(my_doc, style='dep', jupyter=True)"
   ]
  },
  {
   "cell_type": "code",
   "execution_count": null,
   "id": "03ce3b1f",
   "metadata": {},
   "outputs": [],
   "source": []
  }
 ],
 "metadata": {
  "kernelspec": {
   "display_name": "Python 3",
   "language": "python",
   "name": "python3"
  },
  "language_info": {
   "codemirror_mode": {
    "name": "ipython",
    "version": 3
   },
   "file_extension": ".py",
   "mimetype": "text/x-python",
   "name": "python",
   "nbconvert_exporter": "python",
   "pygments_lexer": "ipython3",
   "version": "3.8.8"
  }
 },
 "nbformat": 4,
 "nbformat_minor": 5
}
